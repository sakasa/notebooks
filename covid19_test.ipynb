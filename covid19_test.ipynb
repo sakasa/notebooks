{
  "nbformat": 4,
  "nbformat_minor": 0,
  "metadata": {
    "accelerator": "TPU",
    "colab": {
      "name": "covid19-test.ipynb",
      "provenance": [],
      "collapsed_sections": [],
      "include_colab_link": true
    },
    "kernelspec": {
      "display_name": "Python 3",
      "language": "python",
      "name": "python3"
    },
    "language_info": {
      "codemirror_mode": {
        "name": "ipython",
        "version": 3
      },
      "file_extension": ".py",
      "mimetype": "text/x-python",
      "name": "python",
      "nbconvert_exporter": "python",
      "pygments_lexer": "ipython3",
      "version": "3.8.6"
    }
  },
  "cells": [
    {
      "cell_type": "markdown",
      "metadata": {
        "id": "view-in-github",
        "colab_type": "text"
      },
      "source": [
        "<a href=\"https://colab.research.google.com/github/sakasa/notebooks/blob/master/covid19_test.ipynb\" target=\"_parent\"><img src=\"https://colab.research.google.com/assets/colab-badge.svg\" alt=\"Open In Colab\"/></a>"
      ]
    },
    {
      "cell_type": "code",
      "metadata": {
        "colab": {
          "base_uri": "https://localhost:8080/"
        },
        "id": "6ikqi9uZ2-lh",
        "outputId": "9b6b79fb-5ead-4957-d013-3015a14460c6"
      },
      "source": [
        "!python -V"
      ],
      "execution_count": 1,
      "outputs": [
        {
          "output_type": "stream",
          "name": "stdout",
          "text": [
            "Python 3.7.13\n"
          ]
        }
      ]
    },
    {
      "cell_type": "code",
      "source": [
        ""
      ],
      "metadata": {
        "id": "1WPBWEpKyo5R"
      },
      "execution_count": null,
      "outputs": []
    },
    {
      "cell_type": "code",
      "source": [
        "!pip -V"
      ],
      "metadata": {
        "colab": {
          "base_uri": "https://localhost:8080/"
        },
        "id": "dE6BGRtVzPW0",
        "outputId": "d75307b9-de7c-49a7-d63c-0534dc162e41"
      },
      "execution_count": 2,
      "outputs": [
        {
          "output_type": "stream",
          "name": "stdout",
          "text": [
            "pip 21.1.3 from /usr/local/lib/python3.7/dist-packages/pip (python 3.7)\n"
          ]
        }
      ]
    },
    {
      "cell_type": "code",
      "source": [
        "!pip install -U pip"
      ],
      "metadata": {
        "colab": {
          "base_uri": "https://localhost:8080/"
        },
        "id": "ZbF4MYmozRHV",
        "outputId": "ef8de7a2-4f6e-4b76-baa0-9936804bdf36"
      },
      "execution_count": 3,
      "outputs": [
        {
          "output_type": "stream",
          "name": "stdout",
          "text": [
            "Requirement already satisfied: pip in /usr/local/lib/python3.7/dist-packages (21.1.3)\n",
            "Collecting pip\n",
            "  Downloading pip-22.0.4-py3-none-any.whl (2.1 MB)\n",
            "\u001b[K     |████████████████████████████████| 2.1 MB 14.1 MB/s \n",
            "\u001b[?25hInstalling collected packages: pip\n",
            "  Attempting uninstall: pip\n",
            "    Found existing installation: pip 21.1.3\n",
            "    Uninstalling pip-21.1.3:\n",
            "      Successfully uninstalled pip-21.1.3\n",
            "Successfully installed pip-22.0.4\n"
          ]
        }
      ]
    },
    {
      "cell_type": "code",
      "metadata": {
        "id": "OdoTl1tcHWga"
      },
      "source": [
        "import requests\n",
        "import json\n",
        "import numpy as np\n",
        "import pandas as pd\n",
        "import matplotlib.pyplot as plt\n",
        "import datetime\n",
        "import re\n",
        "from pytz import timezone\n",
        "from tqdm.notebook import tqdm\n",
        "\n",
        "%matplotlib inline"
      ],
      "execution_count": 4,
      "outputs": []
    },
    {
      "cell_type": "markdown",
      "metadata": {
        "id": "5cjvDuO1HWgb"
      },
      "source": [
        "### COVID19 Data\n",
        "https://github.com/tokyo-metropolitan-gov/covid19/blob/development/FORKED_SITES.md"
      ]
    },
    {
      "cell_type": "code",
      "source": [
        "df = pd.read_json('https://raw.githubusercontent.com/tokyo-metropolitan-gov/covid19/development/data/data.json')\n",
        "l = df['patients_summary']['data']\n",
        "json = [{'date': j['日付'], 'count': j['小計'], } for j in l]\n",
        "json[-5:]"
      ],
      "metadata": {
        "colab": {
          "base_uri": "https://localhost:8080/"
        },
        "id": "fJAj0n0KdhiS",
        "outputId": "fc13f820-115c-4f62-812b-0890d54816c0"
      },
      "execution_count": 5,
      "outputs": [
        {
          "output_type": "execute_result",
          "data": {
            "text/plain": [
              "[{'count': 8875, 'date': '2022-03-24T08:00:00.000Z'},\n",
              " {'count': 7289, 'date': '2022-03-25T08:00:00.000Z'},\n",
              " {'count': 7440, 'date': '2022-03-26T08:00:00.000Z'},\n",
              " {'count': 7844, 'date': '2022-03-27T08:00:00.000Z'},\n",
              " {'count': 4544, 'date': '2022-03-28T08:00:00.000Z'}]"
            ]
          },
          "metadata": {},
          "execution_count": 5
        }
      ]
    },
    {
      "cell_type": "code",
      "source": [
        "df = pd.read_json('https://codeforsapporo.github.io/covid19hokkaido_scraping/patients_summary.json')\n",
        "l = df['data'].to_list()\n",
        "json = [{'date': j['日付'], 'count': j['日陽性数'], } for j in l]\n",
        "json[-5:]"
      ],
      "metadata": {
        "colab": {
          "base_uri": "https://localhost:8080/"
        },
        "id": "66GEEq5Yz4Ia",
        "outputId": "7de5a7ff-b00f-47b7-c3a9-65c3e181dc45"
      },
      "execution_count": 6,
      "outputs": [
        {
          "output_type": "execute_result",
          "data": {
            "text/plain": [
              "[{'count': 2048, 'date': '2022-03-24'},\n",
              " {'count': 2138, 'date': '2022-03-25'},\n",
              " {'count': 1700, 'date': '2022-03-26'},\n",
              " {'count': 1497, 'date': '2022-03-27'},\n",
              " {'count': 1200, 'date': '2022-03-28'}]"
            ]
          },
          "metadata": {},
          "execution_count": 6
        }
      ]
    },
    {
      "cell_type": "code",
      "source": [
        "df = pd.read_json('https://raw.githubusercontent.com/MeditationDuck/covid19/development/data/data.json')\n",
        "l = df['patients_summary']['data']\n",
        "json = [{'date': j['日付'], 'count': j['小計'], } for j in l]\n",
        "json[-5:]"
      ],
      "metadata": {
        "colab": {
          "base_uri": "https://localhost:8080/"
        },
        "id": "pljh0th5z37q",
        "outputId": "bf9d49fe-2956-492d-834d-c399bce5b146"
      },
      "execution_count": 7,
      "outputs": [
        {
          "output_type": "execute_result",
          "data": {
            "text/plain": [
              "[{'count': 242, 'date': '2022-03-24'},\n",
              " {'count': 263, 'date': '2022-03-25'},\n",
              " {'count': 247, 'date': '2022-03-26'},\n",
              " {'count': 265, 'date': '2022-03-27'},\n",
              " {'count': 154, 'date': '2022-03-28'}]"
            ]
          },
          "metadata": {},
          "execution_count": 7
        }
      ]
    },
    {
      "cell_type": "code",
      "source": [
        "df = pd.read_json('https://raw.githubusercontent.com/code4shiogama/covid19-miyagi/development/data/data.json')\n",
        "l = df['patients_summary']['data']\n",
        "json = [{'date': j['日付'], 'count': j['小計'], } for j in l]\n",
        "json[-5:]"
      ],
      "metadata": {
        "colab": {
          "base_uri": "https://localhost:8080/"
        },
        "id": "lUuwpjozz3uY",
        "outputId": "14f01f0a-1339-41b6-f7e3-68e6364628c2"
      },
      "execution_count": 8,
      "outputs": [
        {
          "output_type": "execute_result",
          "data": {
            "text/plain": [
              "[{'count': 1, 'date': '2021-12-18T08:00:00.000Z'},\n",
              " {'count': 0, 'date': '2021-12-19T08:00:00.000Z'},\n",
              " {'count': 0, 'date': '2021-12-20T08:00:00.000Z'},\n",
              " {'count': 1, 'date': '2021-12-21T08:00:00.000Z'},\n",
              " {'count': 1, 'date': '2021-12-22T08:00:00.000Z'}]"
            ]
          },
          "metadata": {},
          "execution_count": 8
        }
      ]
    },
    {
      "cell_type": "code",
      "source": [
        "df = pd.read_json('https://raw.githubusercontent.com/code4akita/covid19-akita/development/data/data.json')\n",
        "l = df['patients_summary']['data']\n",
        "json = [{'date': j['日付'], 'count': j['小計'], } for j in l]\n",
        "json[-5:]"
      ],
      "metadata": {
        "colab": {
          "base_uri": "https://localhost:8080/"
        },
        "id": "AgSuWOQUz3eg",
        "outputId": "aa893a80-865e-46bf-ee10-2efd6e383682"
      },
      "execution_count": 9,
      "outputs": [
        {
          "output_type": "execute_result",
          "data": {
            "text/plain": [
              "[{'count': 92, 'date': '2022-02-01T00:00:00+00:00'},\n",
              " {'count': 0, 'date': '2022-02-02T00:00:00+00:00'},\n",
              " {'count': 0, 'date': '2022-02-03T00:00:00+00:00'},\n",
              " {'count': 0, 'date': '2022-02-04T00:00:00+00:00'},\n",
              " {'count': 0, 'date': '2022-02-05T00:00:00+00:00'}]"
            ]
          },
          "metadata": {},
          "execution_count": 9
        }
      ]
    },
    {
      "cell_type": "code",
      "source": [
        "df = pd.read_json('https://raw.githubusercontent.com/yamaserif/covid19/development/data/data.json')\n",
        "l = df['patients_summary']['data']\n",
        "json = [{'date': j['日付'], 'count': j['小計'], } for j in l]\n",
        "json[-5:]"
      ],
      "metadata": {
        "colab": {
          "base_uri": "https://localhost:8080/"
        },
        "id": "MYNLWZ1hz3Pa",
        "outputId": "32667d1b-c2df-4347-e3a4-48487b7b0776"
      },
      "execution_count": 10,
      "outputs": [
        {
          "output_type": "execute_result",
          "data": {
            "text/plain": [
              "[{'count': 170, 'date': '2022-03-24T03:00:00+09:00'},\n",
              " {'count': 175, 'date': '2022-03-25T03:00:00+09:00'},\n",
              " {'count': 195, 'date': '2022-03-26T03:00:00+09:00'},\n",
              " {'count': 168, 'date': '2022-03-27T03:00:00+09:00'},\n",
              " {'count': 156, 'date': '2022-03-28T03:00:00+09:00'}]"
            ]
          },
          "metadata": {},
          "execution_count": 10
        }
      ]
    },
    {
      "cell_type": "code",
      "source": [
        "df = pd.read_json('https://www.pref.kanagawa.jp/osirase/1369/data/data.json')\n",
        "l = df.loc['daily_patients_count']['patient']['data']\n",
        "json = [{'date': j['label'], 'count': j['value'], } for j in l]\n",
        "json[-5:]"
      ],
      "metadata": {
        "colab": {
          "base_uri": "https://localhost:8080/"
        },
        "id": "CZt6K87bz3B2",
        "outputId": "843ff945-f24d-40a6-b4c8-c347e4335d14"
      },
      "execution_count": 11,
      "outputs": [
        {
          "output_type": "execute_result",
          "data": {
            "text/plain": [
              "[{'count': 3742, 'date': '22/03/24'},\n",
              " {'count': 3772, 'date': '22/03/25'},\n",
              " {'count': 4848, 'date': '22/03/26'},\n",
              " {'count': 3553, 'date': '22/03/27'},\n",
              " {'count': 3525, 'date': '22/03/28'}]"
            ]
          },
          "metadata": {},
          "execution_count": 11
        }
      ]
    },
    {
      "cell_type": "code",
      "source": [
        "df = pd.read_json('https://raw.githubusercontent.com/terachan0117/covid19-toyama/development/data/patients_number.json')\n",
        "l = df['data'].to_list()\n",
        "json = [{'date': j['日付'], 'count': j['小計'], } for j in l]\n",
        "json[-5:]"
      ],
      "metadata": {
        "id": "8fM9IIHfz2yw",
        "colab": {
          "base_uri": "https://localhost:8080/"
        },
        "outputId": "4fc30fbc-3fd7-4ba9-da4d-7da31dd2c414"
      },
      "execution_count": 12,
      "outputs": [
        {
          "output_type": "execute_result",
          "data": {
            "text/plain": [
              "[{'count': 325, 'date': '2022-03-24'},\n",
              " {'count': 239, 'date': '2022-03-25'},\n",
              " {'count': 235, 'date': '2022-03-26'},\n",
              " {'count': 225, 'date': '2022-03-27'},\n",
              " {'count': 109, 'date': '2022-03-28'}]"
            ]
          },
          "metadata": {},
          "execution_count": 12
        }
      ]
    },
    {
      "cell_type": "code",
      "source": [
        "df = pd.read_json('https://raw.githubusercontent.com/covid19-yamanashi/covid19/development/data/data.json')\n",
        "l = df['patients_summary']['data']\n",
        "json = [{'date': j['日付'], 'count': j['小計'], } for j in l]\n",
        "json[-5:]"
      ],
      "metadata": {
        "id": "vikp_1jxz2mP",
        "colab": {
          "base_uri": "https://localhost:8080/"
        },
        "outputId": "66c51698-066d-41c4-e9b8-e8e2f21a10b2"
      },
      "execution_count": 13,
      "outputs": [
        {
          "output_type": "execute_result",
          "data": {
            "text/plain": [
              "[{'count': 256, 'date': '2022-01-30T00:00:00+09:00'},\n",
              " {'count': 197, 'date': '2022-01-31T00:00:00+09:00'},\n",
              " {'count': 338, 'date': '2022-02-01T00:00:00+09:00'},\n",
              " {'count': 365, 'date': '2022-02-02T00:00:00+09:00'},\n",
              " {'count': 299, 'date': '2022-02-03T00:00:00+09:00'}]"
            ]
          },
          "metadata": {},
          "execution_count": 13
        }
      ]
    },
    {
      "cell_type": "code",
      "source": [
        "df = pd.read_json('https://db7rdtcq3byow.cloudfront.net/data.json')\n",
        "l = df['patients_summary']['data']\n",
        "json = [{'date': j['日付'], 'count': j['小計'], } for j in l]\n",
        "json[-5:]"
      ],
      "metadata": {
        "id": "nV9ETSsXz2X7",
        "colab": {
          "base_uri": "https://localhost:8080/"
        },
        "outputId": "87387f55-e012-42a8-b2f5-3980d23fde8e"
      },
      "execution_count": 14,
      "outputs": [
        {
          "output_type": "execute_result",
          "data": {
            "text/plain": [
              "[{'count': 229, 'date': '2022-03-24T08:00:00.000Z'},\n",
              " {'count': 157, 'date': '2022-03-25T08:00:00.000Z'},\n",
              " {'count': 204, 'date': '2022-03-26T08:00:00.000Z'},\n",
              " {'count': 129, 'date': '2022-03-27T08:00:00.000Z'},\n",
              " {'count': 50, 'date': '2022-03-28T08:00:00.000Z'}]"
            ]
          },
          "metadata": {},
          "execution_count": 14
        }
      ]
    },
    {
      "cell_type": "code",
      "source": [
        "df = pd.read_json('https://raw.githubusercontent.com/sakurum/covid19-mie-getdata/gh-pages/data.json')\n",
        "l = df['patients_summary']['data']\n",
        "json = [{'date': j['日付'], 'count': j['小計'], } for j in l]\n",
        "json[-5:]"
      ],
      "metadata": {
        "id": "Wbck5oIXz2Jl",
        "colab": {
          "base_uri": "https://localhost:8080/"
        },
        "outputId": "be44549b-cf2e-4c09-9574-d5238c5b119e"
      },
      "execution_count": 15,
      "outputs": [
        {
          "output_type": "execute_result",
          "data": {
            "text/plain": [
              "[{'count': 220, 'date': '2022-01-14T00:00:00.000+09:00'},\n",
              " {'count': 206, 'date': '2022-01-15T00:00:00.000+09:00'},\n",
              " {'count': 157, 'date': '2022-01-16T00:00:00.000+09:00'},\n",
              " {'count': 224, 'date': '2022-01-17T00:00:00.000+09:00'},\n",
              " {'count': 222, 'date': '2022-01-18T00:00:00.000+09:00'}]"
            ]
          },
          "metadata": {},
          "execution_count": 15
        }
      ]
    },
    {
      "cell_type": "code",
      "source": [
        "df = pd.read_json('https://raw.githubusercontent.com/stop-covid19-kyoto/covid19-kyoto/development/data/patients_summary.json')\n",
        "l = df['data'].to_list()\n",
        "json = [{'date': j['日付'], 'count': j['小計'], } for j in l]\n",
        "json[-5:]"
      ],
      "metadata": {
        "id": "fmQU7m0oz159",
        "colab": {
          "base_uri": "https://localhost:8080/"
        },
        "outputId": "2d4cd2a4-9155-4b2b-b63a-0c2c19f1053b"
      },
      "execution_count": 16,
      "outputs": [
        {
          "output_type": "execute_result",
          "data": {
            "text/plain": [
              "[{'count': 963, 'date': '2022-03-24T08:00:00.000Z'},\n",
              " {'count': 1000, 'date': '2022-03-25T08:00:00.000Z'},\n",
              " {'count': 839, 'date': '2022-03-26T08:00:00.000Z'},\n",
              " {'count': 864, 'date': '2022-03-27T08:00:00.000Z'},\n",
              " {'count': 518, 'date': '2022-03-28T08:00:00.000Z'}]"
            ]
          },
          "metadata": {},
          "execution_count": 16
        }
      ]
    },
    {
      "cell_type": "code",
      "source": [
        "df = pd.read_json('https://raw.githubusercontent.com/stop-covid19-hyogo/covid19/development/data/patients_summary.json')\n",
        "l = df['data'].to_list()\n",
        "json = [{'date': j['日付'], 'count': j['小計'], } for j in l]\n",
        "json[-5:]"
      ],
      "metadata": {
        "id": "2K_xvCvSz1rr",
        "colab": {
          "base_uri": "https://localhost:8080/"
        },
        "outputId": "4c058b74-7582-464f-d23e-9eb2b43b6320"
      },
      "execution_count": 17,
      "outputs": [
        {
          "output_type": "execute_result",
          "data": {
            "text/plain": [
              "[{'count': 897, 'date': '2022-03-21T00:00:00+09:00'},\n",
              " {'count': 589, 'date': '2022-03-22T00:00:00+09:00'},\n",
              " {'count': 1971, 'date': '2022-03-23T00:00:00+09:00'},\n",
              " {'count': 2169, 'date': '2022-03-24T00:00:00+09:00'},\n",
              " {'count': 1900, 'date': '2022-03-25T00:00:00+09:00'}]"
            ]
          },
          "metadata": {},
          "execution_count": 17
        }
      ]
    },
    {
      "cell_type": "code",
      "source": [
        "df = pd.read_json('https://raw.githubusercontent.com/stopcovid19-okayama/covid19/development/data/patients_summary.json')\n",
        "l = df['data'].to_list()\n",
        "json = [{'date': j['日付'], 'count': j['小計'], } for j in l]\n",
        "json[-5:]"
      ],
      "metadata": {
        "id": "2fmtsM-Xz1eX",
        "colab": {
          "base_uri": "https://localhost:8080/"
        },
        "outputId": "33d90238-4070-4f6a-d3d6-f6bf28a0ec51"
      },
      "execution_count": 18,
      "outputs": [
        {
          "output_type": "execute_result",
          "data": {
            "text/plain": [
              "[{'count': 517, 'date': '2022-03-24T08:00:00.000Z'},\n",
              " {'count': 456, 'date': '2022-03-25T08:00:00.000Z'},\n",
              " {'count': 366, 'date': '2022-03-26T08:00:00.000Z'},\n",
              " {'count': 415, 'date': '2022-03-27T08:00:00.000Z'},\n",
              " {'count': 255, 'date': '2022-03-28T08:00:00.000Z'}]"
            ]
          },
          "metadata": {},
          "execution_count": 18
        }
      ]
    },
    {
      "cell_type": "code",
      "source": [
        "df = pd.read_json('https://data-covid19-oita.netlify.app/data.json')\n",
        "l = df['patients_summary']['data']\n",
        "json = [{'date': j['日付'], 'count': j['小計'], } for j in l]\n",
        "json[-5:]"
      ],
      "metadata": {
        "id": "KY2ZY9Ryz1Q4",
        "colab": {
          "base_uri": "https://localhost:8080/"
        },
        "outputId": "53ccde5a-a3c9-449e-c4b4-f43692c17390"
      },
      "execution_count": 19,
      "outputs": [
        {
          "output_type": "execute_result",
          "data": {
            "text/plain": [
              "[{'count': 292, 'date': '2022-03-24'},\n",
              " {'count': 279, 'date': '2022-03-25'},\n",
              " {'count': 283, 'date': '2022-03-26'},\n",
              " {'count': 246, 'date': '2022-03-27'},\n",
              " {'count': 240, 'date': '2022-03-28'}]"
            ]
          },
          "metadata": {},
          "execution_count": 19
        }
      ]
    },
    {
      "cell_type": "code",
      "source": [
        "df = pd.read_json('https://raw.githubusercontent.com/codeforkagoshima/covid19/development/data/data.json')\n",
        "l = df['patients_summary']['data']\n",
        "json = [{'date': j['日付'], 'count': j['小計'], } for j in l]\n",
        "json[-5:]"
      ],
      "metadata": {
        "id": "Nq9jp_avz1Cf",
        "colab": {
          "base_uri": "https://localhost:8080/"
        },
        "outputId": "1af13b4a-bdaa-4378-91f9-784e3b07f87b"
      },
      "execution_count": 20,
      "outputs": [
        {
          "output_type": "execute_result",
          "data": {
            "text/plain": [
              "[{'count': 539, 'date': '2022-03-24T08:00:00.000Z'},\n",
              " {'count': 491, 'date': '2022-03-25T08:00:00.000Z'},\n",
              " {'count': 597, 'date': '2022-03-26T08:00:00.000Z'},\n",
              " {'count': 468, 'date': '2022-03-27T08:00:00.000Z'},\n",
              " {'count': 330, 'date': '2022-03-28T08:00:00.000Z'}]"
            ]
          },
          "metadata": {},
          "execution_count": 20
        }
      ]
    },
    {
      "cell_type": "code",
      "source": [
        ""
      ],
      "metadata": {
        "id": "g-iyqA0dz00t"
      },
      "execution_count": 20,
      "outputs": []
    },
    {
      "cell_type": "code",
      "source": [
        ""
      ],
      "metadata": {
        "id": "1qjFLzoHz0l2"
      },
      "execution_count": 20,
      "outputs": []
    },
    {
      "cell_type": "code",
      "source": [
        ""
      ],
      "metadata": {
        "id": "4oYvedAmz0Y0"
      },
      "execution_count": 20,
      "outputs": []
    },
    {
      "cell_type": "code",
      "source": [
        ""
      ],
      "metadata": {
        "id": "4GQ2JOmlz0LB"
      },
      "execution_count": 20,
      "outputs": []
    },
    {
      "cell_type": "code",
      "source": [
        ""
      ],
      "metadata": {
        "id": "24fO8SiIzz1K"
      },
      "execution_count": 20,
      "outputs": []
    },
    {
      "cell_type": "code",
      "metadata": {
        "id": "qqXB9M8aWUJF"
      },
      "source": [
        ""
      ],
      "execution_count": 20,
      "outputs": []
    }
  ]
}