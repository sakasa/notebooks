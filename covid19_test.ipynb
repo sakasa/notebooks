{
  "nbformat": 4,
  "nbformat_minor": 0,
  "metadata": {
    "accelerator": "TPU",
    "colab": {
      "name": "covid19-test.ipynb",
      "provenance": [],
      "collapsed_sections": [],
      "include_colab_link": true
    },
    "kernelspec": {
      "display_name": "Python 3",
      "language": "python",
      "name": "python3"
    },
    "language_info": {
      "codemirror_mode": {
        "name": "ipython",
        "version": 3
      },
      "file_extension": ".py",
      "mimetype": "text/x-python",
      "name": "python",
      "nbconvert_exporter": "python",
      "pygments_lexer": "ipython3",
      "version": "3.8.6"
    }
  },
  "cells": [
    {
      "cell_type": "markdown",
      "metadata": {
        "id": "view-in-github",
        "colab_type": "text"
      },
      "source": [
        "<a href=\"https://colab.research.google.com/github/sakasa/notebooks/blob/master/covid19_test.ipynb\" target=\"_parent\"><img src=\"https://colab.research.google.com/assets/colab-badge.svg\" alt=\"Open In Colab\"/></a>"
      ]
    },
    {
      "cell_type": "code",
      "metadata": {
        "colab": {
          "base_uri": "https://localhost:8080/"
        },
        "id": "6ikqi9uZ2-lh",
        "outputId": "6f548684-ef3f-4e6d-8240-5a18b2c4071e"
      },
      "source": [
        "!python -V"
      ],
      "execution_count": 1,
      "outputs": [
        {
          "output_type": "stream",
          "name": "stdout",
          "text": [
            "Python 3.7.13\n"
          ]
        }
      ]
    },
    {
      "cell_type": "code",
      "source": [
        ""
      ],
      "metadata": {
        "id": "1WPBWEpKyo5R"
      },
      "execution_count": 1,
      "outputs": []
    },
    {
      "cell_type": "code",
      "source": [
        "!pip -V"
      ],
      "metadata": {
        "colab": {
          "base_uri": "https://localhost:8080/"
        },
        "id": "dE6BGRtVzPW0",
        "outputId": "1a72d739-8be9-4db6-c80b-25ca47173788"
      },
      "execution_count": 2,
      "outputs": [
        {
          "output_type": "stream",
          "name": "stdout",
          "text": [
            "pip 21.1.3 from /usr/local/lib/python3.7/dist-packages/pip (python 3.7)\n"
          ]
        }
      ]
    },
    {
      "cell_type": "code",
      "source": [
        "!pip install -U pip"
      ],
      "metadata": {
        "colab": {
          "base_uri": "https://localhost:8080/"
        },
        "id": "ZbF4MYmozRHV",
        "outputId": "9b49dee3-2874-452c-d625-7fcd1b9fc28d"
      },
      "execution_count": 3,
      "outputs": [
        {
          "output_type": "stream",
          "name": "stdout",
          "text": [
            "Requirement already satisfied: pip in /usr/local/lib/python3.7/dist-packages (21.1.3)\n",
            "Collecting pip\n",
            "  Downloading pip-22.0.4-py3-none-any.whl (2.1 MB)\n",
            "\u001b[K     |████████████████████████████████| 2.1 MB 5.0 MB/s \n",
            "\u001b[?25hInstalling collected packages: pip\n",
            "  Attempting uninstall: pip\n",
            "    Found existing installation: pip 21.1.3\n",
            "    Uninstalling pip-21.1.3:\n",
            "      Successfully uninstalled pip-21.1.3\n",
            "Successfully installed pip-22.0.4\n"
          ]
        }
      ]
    },
    {
      "cell_type": "code",
      "metadata": {
        "id": "OdoTl1tcHWga"
      },
      "source": [
        "import requests\n",
        "import json\n",
        "import numpy as np\n",
        "import pandas as pd\n",
        "import matplotlib.pyplot as plt\n",
        "import datetime\n",
        "import re\n",
        "from pytz import timezone\n",
        "from tqdm.notebook import tqdm\n",
        "\n",
        "%matplotlib inline"
      ],
      "execution_count": 4,
      "outputs": []
    },
    {
      "cell_type": "markdown",
      "metadata": {
        "id": "5cjvDuO1HWgb"
      },
      "source": [
        "### COVID19 Data\n",
        "https://github.com/tokyo-metropolitan-gov/covid19/blob/development/FORKED_SITES.md"
      ]
    },
    {
      "cell_type": "code",
      "source": [
        "df = pd.read_json('https://raw.githubusercontent.com/tokyo-metropolitan-gov/covid19/development/data/data.json')\n",
        "l = df['patients_summary']['data']\n",
        "json = [{'date': j['日付'], 'count': j['小計'], } for j in l]\n",
        "json[-5:]"
      ],
      "metadata": {
        "colab": {
          "base_uri": "https://localhost:8080/"
        },
        "id": "fJAj0n0KdhiS",
        "outputId": "e9c0d99d-76da-456b-a1a2-42b6a6b48aa0"
      },
      "execution_count": 5,
      "outputs": [
        {
          "output_type": "execute_result",
          "data": {
            "text/plain": [
              "[{'count': 8226, 'date': '2022-03-31T08:00:00.000Z'},\n",
              " {'count': 7982, 'date': '2022-04-01T08:00:00.000Z'},\n",
              " {'count': 7395, 'date': '2022-04-02T08:00:00.000Z'},\n",
              " {'count': 7899, 'date': '2022-04-03T08:00:00.000Z'},\n",
              " {'count': 4384, 'date': '2022-04-04T08:00:00.000Z'}]"
            ]
          },
          "metadata": {},
          "execution_count": 5
        }
      ]
    },
    {
      "cell_type": "code",
      "source": [
        "df = pd.read_json('https://codeforsapporo.github.io/covid19hokkaido_scraping/patients_summary.json')\n",
        "l = df['data'].to_list()\n",
        "json = [{'date': j['日付'], 'count': j['日陽性数'], } for j in l]\n",
        "json[-5:]"
      ],
      "metadata": {
        "colab": {
          "base_uri": "https://localhost:8080/"
        },
        "id": "66GEEq5Yz4Ia",
        "outputId": "9bdc3d49-94da-40a1-fa3c-9025be88bac6"
      },
      "execution_count": 6,
      "outputs": [
        {
          "output_type": "execute_result",
          "data": {
            "text/plain": [
              "[{'count': 2106, 'date': '2022-03-31'},\n",
              " {'count': 2033, 'date': '2022-04-01'},\n",
              " {'count': 1985, 'date': '2022-04-02'},\n",
              " {'count': 1845, 'date': '2022-04-03'},\n",
              " {'count': 1577, 'date': '2022-04-04'}]"
            ]
          },
          "metadata": {},
          "execution_count": 6
        }
      ]
    },
    {
      "cell_type": "code",
      "source": [
        "df = pd.read_json('https://raw.githubusercontent.com/MeditationDuck/covid19/development/data/data.json')\n",
        "l = df['patients_summary']['data']\n",
        "json = [{'date': j['日付'], 'count': j['小計'], } for j in l]\n",
        "json[-5:]"
      ],
      "metadata": {
        "colab": {
          "base_uri": "https://localhost:8080/"
        },
        "id": "pljh0th5z37q",
        "outputId": "1164a713-6ed4-498e-8926-03dba683f740"
      },
      "execution_count": 7,
      "outputs": [
        {
          "output_type": "execute_result",
          "data": {
            "text/plain": [
              "[{'count': 253, 'date': '2022-03-31'},\n",
              " {'count': 209, 'date': '2022-04-01'},\n",
              " {'count': 274, 'date': '2022-04-02'},\n",
              " {'count': 245, 'date': '2022-04-03'},\n",
              " {'count': 149, 'date': '2022-04-04'}]"
            ]
          },
          "metadata": {},
          "execution_count": 7
        }
      ]
    },
    {
      "cell_type": "code",
      "source": [
        "df = pd.read_json('https://raw.githubusercontent.com/code4shiogama/covid19-miyagi/development/data/data.json')\n",
        "l = df['patients_summary']['data']\n",
        "json = [{'date': j['日付'], 'count': j['小計'], } for j in l]\n",
        "json[-5:]"
      ],
      "metadata": {
        "colab": {
          "base_uri": "https://localhost:8080/"
        },
        "id": "lUuwpjozz3uY",
        "outputId": "ad0fab30-481f-49e9-bb21-e4bd63b551b0"
      },
      "execution_count": 8,
      "outputs": [
        {
          "output_type": "execute_result",
          "data": {
            "text/plain": [
              "[{'count': 1, 'date': '2021-12-18T08:00:00.000Z'},\n",
              " {'count': 0, 'date': '2021-12-19T08:00:00.000Z'},\n",
              " {'count': 0, 'date': '2021-12-20T08:00:00.000Z'},\n",
              " {'count': 1, 'date': '2021-12-21T08:00:00.000Z'},\n",
              " {'count': 1, 'date': '2021-12-22T08:00:00.000Z'}]"
            ]
          },
          "metadata": {},
          "execution_count": 8
        }
      ]
    },
    {
      "cell_type": "code",
      "source": [
        "df = pd.read_json('https://raw.githubusercontent.com/code4akita/covid19-akita/development/data/data.json')\n",
        "l = df['patients_summary']['data']\n",
        "json = [{'date': j['日付'], 'count': j['小計'], } for j in l]\n",
        "json[-5:]"
      ],
      "metadata": {
        "colab": {
          "base_uri": "https://localhost:8080/"
        },
        "id": "AgSuWOQUz3eg",
        "outputId": "b6a3408d-b993-4a63-deaa-d9d8b6407d10"
      },
      "execution_count": 9,
      "outputs": [
        {
          "output_type": "execute_result",
          "data": {
            "text/plain": [
              "[{'count': 92, 'date': '2022-02-01T00:00:00+00:00'},\n",
              " {'count': 0, 'date': '2022-02-02T00:00:00+00:00'},\n",
              " {'count': 0, 'date': '2022-02-03T00:00:00+00:00'},\n",
              " {'count': 0, 'date': '2022-02-04T00:00:00+00:00'},\n",
              " {'count': 0, 'date': '2022-02-05T00:00:00+00:00'}]"
            ]
          },
          "metadata": {},
          "execution_count": 9
        }
      ]
    },
    {
      "cell_type": "code",
      "source": [
        "df = pd.read_json('https://raw.githubusercontent.com/yamaserif/covid19/development/data/data.json')\n",
        "l = df['patients_summary']['data']\n",
        "json = [{'date': j['日付'], 'count': j['小計'], } for j in l]\n",
        "json[-5:]"
      ],
      "metadata": {
        "colab": {
          "base_uri": "https://localhost:8080/"
        },
        "id": "MYNLWZ1hz3Pa",
        "outputId": "86debad3-9530-4730-a463-d0ba7f189763"
      },
      "execution_count": 10,
      "outputs": [
        {
          "output_type": "execute_result",
          "data": {
            "text/plain": [
              "[{'count': 252, 'date': '2022-03-31T03:00:00+09:00'},\n",
              " {'count': 170, 'date': '2022-04-01T03:00:00+09:00'},\n",
              " {'count': 187, 'date': '2022-04-02T03:00:00+09:00'},\n",
              " {'count': 141, 'date': '2022-04-03T03:00:00+09:00'},\n",
              " {'count': 103, 'date': '2022-04-04T03:00:00+09:00'}]"
            ]
          },
          "metadata": {},
          "execution_count": 10
        }
      ]
    },
    {
      "cell_type": "code",
      "source": [
        "df = pd.read_json('https://www.pref.kanagawa.jp/osirase/1369/data/data.json')\n",
        "l = df.loc['daily_patients_count']['patient']['data']\n",
        "json = [{'date': j['label'], 'count': j['value'], } for j in l]\n",
        "json[-5:]"
      ],
      "metadata": {
        "colab": {
          "base_uri": "https://localhost:8080/"
        },
        "id": "CZt6K87bz3B2",
        "outputId": "37a62802-0941-4b7c-e069-119f98cbcf59"
      },
      "execution_count": 11,
      "outputs": [
        {
          "output_type": "execute_result",
          "data": {
            "text/plain": [
              "[{'count': 3887, 'date': '22/03/31'},\n",
              " {'count': 3653, 'date': '22/04/01'},\n",
              " {'count': 4806, 'date': '22/04/02'},\n",
              " {'count': 4244, 'date': '22/04/03'},\n",
              " {'count': 3055, 'date': '22/04/04'}]"
            ]
          },
          "metadata": {},
          "execution_count": 11
        }
      ]
    },
    {
      "cell_type": "code",
      "source": [
        "df = pd.read_json('https://raw.githubusercontent.com/terachan0117/covid19-toyama/development/data/patients_number.json')\n",
        "l = df['data'].to_list()\n",
        "json = [{'date': j['日付'], 'count': j['小計'], } for j in l]\n",
        "json[-5:]"
      ],
      "metadata": {
        "id": "8fM9IIHfz2yw",
        "colab": {
          "base_uri": "https://localhost:8080/"
        },
        "outputId": "59eae3fc-9ab5-4158-edb3-8e544e1da419"
      },
      "execution_count": 12,
      "outputs": [
        {
          "output_type": "execute_result",
          "data": {
            "text/plain": [
              "[{'count': 289, 'date': '2022-03-31'},\n",
              " {'count': 253, 'date': '2022-04-01'},\n",
              " {'count': 208, 'date': '2022-04-02'},\n",
              " {'count': 180, 'date': '2022-04-03'},\n",
              " {'count': 85, 'date': '2022-04-04'}]"
            ]
          },
          "metadata": {},
          "execution_count": 12
        }
      ]
    },
    {
      "cell_type": "code",
      "source": [
        "df = pd.read_json('https://raw.githubusercontent.com/covid19-yamanashi/covid19/development/data/data.json')\n",
        "l = df['patients_summary']['data']\n",
        "json = [{'date': j['日付'], 'count': j['小計'], } for j in l]\n",
        "json[-5:]"
      ],
      "metadata": {
        "id": "vikp_1jxz2mP",
        "colab": {
          "base_uri": "https://localhost:8080/"
        },
        "outputId": "79c0f489-fe49-41ea-b1d4-71c798a978a5"
      },
      "execution_count": 13,
      "outputs": [
        {
          "output_type": "execute_result",
          "data": {
            "text/plain": [
              "[{'count': 256, 'date': '2022-01-30T00:00:00+09:00'},\n",
              " {'count': 197, 'date': '2022-01-31T00:00:00+09:00'},\n",
              " {'count': 338, 'date': '2022-02-01T00:00:00+09:00'},\n",
              " {'count': 365, 'date': '2022-02-02T00:00:00+09:00'},\n",
              " {'count': 299, 'date': '2022-02-03T00:00:00+09:00'}]"
            ]
          },
          "metadata": {},
          "execution_count": 13
        }
      ]
    },
    {
      "cell_type": "code",
      "source": [
        "# df = pd.read_json('https://db7rdtcq3byow.cloudfront.net/data.json')\n",
        "# l = df['patients_summary']['data']\n",
        "# json = [{'date': j['日付'], 'count': j['小計'], } for j in l]\n",
        "# json[-5:]"
      ],
      "metadata": {
        "id": "nV9ETSsXz2X7"
      },
      "execution_count": 14,
      "outputs": []
    },
    {
      "cell_type": "code",
      "source": [
        "df = pd.read_json('https://raw.githubusercontent.com/sakurum/covid19-mie-getdata/gh-pages/data.json')\n",
        "l = df['patients_summary']['data']\n",
        "json = [{'date': j['日付'], 'count': j['小計'], } for j in l]\n",
        "json[-5:]"
      ],
      "metadata": {
        "id": "Wbck5oIXz2Jl",
        "colab": {
          "base_uri": "https://localhost:8080/"
        },
        "outputId": "3f6724cb-697e-491e-9a93-ed5ec1126e2e"
      },
      "execution_count": 15,
      "outputs": [
        {
          "output_type": "execute_result",
          "data": {
            "text/plain": [
              "[{'count': 220, 'date': '2022-01-14T00:00:00.000+09:00'},\n",
              " {'count': 206, 'date': '2022-01-15T00:00:00.000+09:00'},\n",
              " {'count': 157, 'date': '2022-01-16T00:00:00.000+09:00'},\n",
              " {'count': 224, 'date': '2022-01-17T00:00:00.000+09:00'},\n",
              " {'count': 222, 'date': '2022-01-18T00:00:00.000+09:00'}]"
            ]
          },
          "metadata": {},
          "execution_count": 15
        }
      ]
    },
    {
      "cell_type": "code",
      "source": [
        "df = pd.read_json('https://raw.githubusercontent.com/stop-covid19-kyoto/covid19-kyoto/development/data/patients_summary.json')\n",
        "l = df['data'].to_list()\n",
        "json = [{'date': j['日付'], 'count': j['小計'], } for j in l]\n",
        "json[-5:]"
      ],
      "metadata": {
        "id": "fmQU7m0oz159",
        "colab": {
          "base_uri": "https://localhost:8080/"
        },
        "outputId": "e02bf2a2-fcfc-45f9-af74-aa925fbc4639"
      },
      "execution_count": 16,
      "outputs": [
        {
          "output_type": "execute_result",
          "data": {
            "text/plain": [
              "[{'count': 1092, 'date': '2022-03-31T08:00:00.000Z'},\n",
              " {'count': 987, 'date': '2022-04-01T08:00:00.000Z'},\n",
              " {'count': 963, 'date': '2022-04-02T08:00:00.000Z'},\n",
              " {'count': 939, 'date': '2022-04-03T08:00:00.000Z'},\n",
              " {'count': 575, 'date': '2022-04-04T08:00:00.000Z'}]"
            ]
          },
          "metadata": {},
          "execution_count": 16
        }
      ]
    },
    {
      "cell_type": "code",
      "source": [
        "df = pd.read_json('https://raw.githubusercontent.com/stop-covid19-hyogo/covid19/development/data/patients_summary.json')\n",
        "l = df['data'].to_list()\n",
        "json = [{'date': j['日付'], 'count': j['小計'], } for j in l]\n",
        "json[-5:]"
      ],
      "metadata": {
        "id": "2K_xvCvSz1rr",
        "colab": {
          "base_uri": "https://localhost:8080/"
        },
        "outputId": "f895e4e5-80e1-4acd-ec72-3fabf69cede3"
      },
      "execution_count": 17,
      "outputs": [
        {
          "output_type": "execute_result",
          "data": {
            "text/plain": [
              "[{'count': 897, 'date': '2022-03-21T00:00:00+09:00'},\n",
              " {'count': 589, 'date': '2022-03-22T00:00:00+09:00'},\n",
              " {'count': 1971, 'date': '2022-03-23T00:00:00+09:00'},\n",
              " {'count': 2169, 'date': '2022-03-24T00:00:00+09:00'},\n",
              " {'count': 1900, 'date': '2022-03-25T00:00:00+09:00'}]"
            ]
          },
          "metadata": {},
          "execution_count": 17
        }
      ]
    },
    {
      "cell_type": "code",
      "source": [
        "df = pd.read_json('https://raw.githubusercontent.com/stopcovid19-okayama/covid19/development/data/patients_summary.json')\n",
        "l = df['data'].to_list()\n",
        "json = [{'date': j['日付'], 'count': j['小計'], } for j in l]\n",
        "json[-5:]"
      ],
      "metadata": {
        "id": "2fmtsM-Xz1eX",
        "colab": {
          "base_uri": "https://localhost:8080/"
        },
        "outputId": "ce24c961-aef6-4ab3-e996-60d4a44b8997"
      },
      "execution_count": 18,
      "outputs": [
        {
          "output_type": "execute_result",
          "data": {
            "text/plain": [
              "[{'count': 545, 'date': '2022-03-31T08:00:00.000Z'},\n",
              " {'count': 461, 'date': '2022-04-01T08:00:00.000Z'},\n",
              " {'count': 529, 'date': '2022-04-02T08:00:00.000Z'},\n",
              " {'count': 457, 'date': '2022-04-03T08:00:00.000Z'},\n",
              " {'count': 317, 'date': '2022-04-04T08:00:00.000Z'}]"
            ]
          },
          "metadata": {},
          "execution_count": 18
        }
      ]
    },
    {
      "cell_type": "code",
      "source": [
        "df = pd.read_json('https://data-covid19-oita.netlify.app/data.json')\n",
        "l = df['patients_summary']['data']\n",
        "json = [{'date': j['日付'], 'count': j['小計'], } for j in l]\n",
        "json[-5:]"
      ],
      "metadata": {
        "id": "KY2ZY9Ryz1Q4",
        "colab": {
          "base_uri": "https://localhost:8080/"
        },
        "outputId": "5396b10e-d25c-4201-84a8-973ee3f85d13"
      },
      "execution_count": 19,
      "outputs": [
        {
          "output_type": "execute_result",
          "data": {
            "text/plain": [
              "[{'count': 411, 'date': '2022-03-31'},\n",
              " {'count': 416, 'date': '2022-04-01'},\n",
              " {'count': 416, 'date': '2022-04-02'},\n",
              " {'count': 370, 'date': '2022-04-03'},\n",
              " {'count': 250, 'date': '2022-04-04'}]"
            ]
          },
          "metadata": {},
          "execution_count": 19
        }
      ]
    },
    {
      "cell_type": "code",
      "source": [
        "df = pd.read_json('https://raw.githubusercontent.com/codeforkagoshima/covid19/development/data/data.json')\n",
        "l = df['patients_summary']['data']\n",
        "json = [{'date': j['日付'], 'count': j['小計'], } for j in l]\n",
        "json[-5:]"
      ],
      "metadata": {
        "id": "Nq9jp_avz1Cf",
        "colab": {
          "base_uri": "https://localhost:8080/"
        },
        "outputId": "ff9f2a19-416e-4df3-fd12-1e83980ba66f"
      },
      "execution_count": 20,
      "outputs": [
        {
          "output_type": "execute_result",
          "data": {
            "text/plain": [
              "[{'count': 689, 'date': '2022-03-31T08:00:00.000Z'},\n",
              " {'count': 745, 'date': '2022-04-01T08:00:00.000Z'},\n",
              " {'count': 740, 'date': '2022-04-02T08:00:00.000Z'},\n",
              " {'count': 753, 'date': '2022-04-03T08:00:00.000Z'},\n",
              " {'count': 322, 'date': '2022-04-04T08:00:00.000Z'}]"
            ]
          },
          "metadata": {},
          "execution_count": 20
        }
      ]
    },
    {
      "cell_type": "code",
      "source": [
        ""
      ],
      "metadata": {
        "id": "g-iyqA0dz00t"
      },
      "execution_count": 20,
      "outputs": []
    },
    {
      "cell_type": "code",
      "source": [
        ""
      ],
      "metadata": {
        "id": "1qjFLzoHz0l2"
      },
      "execution_count": 20,
      "outputs": []
    },
    {
      "cell_type": "code",
      "source": [
        ""
      ],
      "metadata": {
        "id": "4oYvedAmz0Y0"
      },
      "execution_count": 20,
      "outputs": []
    },
    {
      "cell_type": "code",
      "source": [
        ""
      ],
      "metadata": {
        "id": "4GQ2JOmlz0LB"
      },
      "execution_count": 20,
      "outputs": []
    },
    {
      "cell_type": "code",
      "source": [
        ""
      ],
      "metadata": {
        "id": "24fO8SiIzz1K"
      },
      "execution_count": 20,
      "outputs": []
    },
    {
      "cell_type": "code",
      "metadata": {
        "id": "qqXB9M8aWUJF"
      },
      "source": [
        ""
      ],
      "execution_count": 20,
      "outputs": []
    }
  ]
}