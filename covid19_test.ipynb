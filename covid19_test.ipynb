{
  "nbformat": 4,
  "nbformat_minor": 0,
  "metadata": {
    "accelerator": "TPU",
    "colab": {
      "name": "covid19-test.ipynb",
      "provenance": [],
      "collapsed_sections": [],
      "include_colab_link": true
    },
    "kernelspec": {
      "display_name": "Python 3",
      "language": "python",
      "name": "python3"
    },
    "language_info": {
      "codemirror_mode": {
        "name": "ipython",
        "version": 3
      },
      "file_extension": ".py",
      "mimetype": "text/x-python",
      "name": "python",
      "nbconvert_exporter": "python",
      "pygments_lexer": "ipython3",
      "version": "3.8.6"
    }
  },
  "cells": [
    {
      "cell_type": "markdown",
      "metadata": {
        "id": "view-in-github",
        "colab_type": "text"
      },
      "source": [
        "<a href=\"https://colab.research.google.com/github/sakasa/notebooks/blob/master/covid19_test.ipynb\" target=\"_parent\"><img src=\"https://colab.research.google.com/assets/colab-badge.svg\" alt=\"Open In Colab\"/></a>"
      ]
    },
    {
      "cell_type": "code",
      "metadata": {
        "colab": {
          "base_uri": "https://localhost:8080/"
        },
        "id": "6ikqi9uZ2-lh",
        "outputId": "4789aabe-e411-409b-d3d2-d94657ae2f76"
      },
      "source": [
        "!python -V"
      ],
      "execution_count": 15,
      "outputs": [
        {
          "output_type": "stream",
          "name": "stdout",
          "text": [
            "Python 3.7.13\n"
          ]
        }
      ]
    },
    {
      "cell_type": "code",
      "source": [
        ""
      ],
      "metadata": {
        "id": "1WPBWEpKyo5R"
      },
      "execution_count": 15,
      "outputs": []
    },
    {
      "cell_type": "code",
      "source": [
        "!pip -V"
      ],
      "metadata": {
        "colab": {
          "base_uri": "https://localhost:8080/"
        },
        "id": "dE6BGRtVzPW0",
        "outputId": "3b62f03f-3ff6-42e7-9ad1-076c83b3081a"
      },
      "execution_count": 16,
      "outputs": [
        {
          "output_type": "stream",
          "name": "stdout",
          "text": [
            "pip 22.0.4 from /usr/local/lib/python3.7/dist-packages/pip (python 3.7)\n"
          ]
        }
      ]
    },
    {
      "cell_type": "code",
      "source": [
        "!pip install -U pip"
      ],
      "metadata": {
        "colab": {
          "base_uri": "https://localhost:8080/"
        },
        "id": "ZbF4MYmozRHV",
        "outputId": "1d4071a4-a53a-4974-eb66-f2158940286f"
      },
      "execution_count": 17,
      "outputs": [
        {
          "output_type": "stream",
          "name": "stdout",
          "text": [
            "Requirement already satisfied: pip in /usr/local/lib/python3.7/dist-packages (22.0.4)\n",
            "\u001b[33mWARNING: Running pip as the 'root' user can result in broken permissions and conflicting behaviour with the system package manager. It is recommended to use a virtual environment instead: https://pip.pypa.io/warnings/venv\u001b[0m\u001b[33m\n",
            "\u001b[0m"
          ]
        }
      ]
    },
    {
      "cell_type": "code",
      "metadata": {
        "id": "OdoTl1tcHWga"
      },
      "source": [
        "import requests\n",
        "import json\n",
        "import numpy as np\n",
        "import pandas as pd\n",
        "import matplotlib.pyplot as plt\n",
        "import datetime\n",
        "import re\n",
        "from pytz import timezone\n",
        "from tqdm.notebook import tqdm\n",
        "\n",
        "%matplotlib inline"
      ],
      "execution_count": 18,
      "outputs": []
    },
    {
      "cell_type": "markdown",
      "metadata": {
        "id": "5cjvDuO1HWgb"
      },
      "source": [
        "### COVID19 Data\n",
        "https://github.com/tokyo-metropolitan-gov/covid19/blob/development/FORKED_SITES.md"
      ]
    },
    {
      "cell_type": "code",
      "source": [
        "df = pd.read_json('https://raw.githubusercontent.com/tokyo-metropolitan-gov/covid19/development/data/data.json')\n",
        "l = df['patients_summary']['data']\n",
        "json = [{'date': j['日付'], 'count': j['小計'], } for j in l]\n",
        "json[-5:]"
      ],
      "metadata": {
        "colab": {
          "base_uri": "https://localhost:8080/"
        },
        "id": "fJAj0n0KdhiS",
        "outputId": "1a47c708-637a-439c-e552-1c55d8500362"
      },
      "execution_count": 19,
      "outputs": [
        {
          "output_type": "execute_result",
          "data": {
            "text/plain": [
              "[{'count': 9520, 'date': '2022-03-30T08:00:00.000Z'},\n",
              " {'count': 8226, 'date': '2022-03-31T08:00:00.000Z'},\n",
              " {'count': 7982, 'date': '2022-04-01T08:00:00.000Z'},\n",
              " {'count': 7395, 'date': '2022-04-02T08:00:00.000Z'},\n",
              " {'count': 7899, 'date': '2022-04-03T08:00:00.000Z'}]"
            ]
          },
          "metadata": {},
          "execution_count": 19
        }
      ]
    },
    {
      "cell_type": "code",
      "source": [
        "df = pd.read_json('https://codeforsapporo.github.io/covid19hokkaido_scraping/patients_summary.json')\n",
        "l = df['data'].to_list()\n",
        "json = [{'date': j['日付'], 'count': j['日陽性数'], } for j in l]\n",
        "json[-5:]"
      ],
      "metadata": {
        "colab": {
          "base_uri": "https://localhost:8080/"
        },
        "id": "66GEEq5Yz4Ia",
        "outputId": "0762ccf6-e829-4782-aa47-a7e5fb65ecb2"
      },
      "execution_count": 20,
      "outputs": [
        {
          "output_type": "execute_result",
          "data": {
            "text/plain": [
              "[{'count': 1367, 'date': '2022-03-29'},\n",
              " {'count': 1979, 'date': '2022-03-30'},\n",
              " {'count': 2106, 'date': '2022-03-31'},\n",
              " {'count': 2033, 'date': '2022-04-01'},\n",
              " {'count': 1985, 'date': '2022-04-02'}]"
            ]
          },
          "metadata": {},
          "execution_count": 20
        }
      ]
    },
    {
      "cell_type": "code",
      "source": [
        "df = pd.read_json('https://raw.githubusercontent.com/MeditationDuck/covid19/development/data/data.json')\n",
        "l = df['patients_summary']['data']\n",
        "json = [{'date': j['日付'], 'count': j['小計'], } for j in l]\n",
        "json[-5:]"
      ],
      "metadata": {
        "colab": {
          "base_uri": "https://localhost:8080/"
        },
        "id": "pljh0th5z37q",
        "outputId": "10346c2f-67db-42b8-e0e5-0923cee7969e"
      },
      "execution_count": 21,
      "outputs": [
        {
          "output_type": "execute_result",
          "data": {
            "text/plain": [
              "[{'count': 211, 'date': '2022-03-30'},\n",
              " {'count': 253, 'date': '2022-03-31'},\n",
              " {'count': 209, 'date': '2022-04-01'},\n",
              " {'count': 274, 'date': '2022-04-02'},\n",
              " {'count': 245, 'date': '2022-04-03'}]"
            ]
          },
          "metadata": {},
          "execution_count": 21
        }
      ]
    },
    {
      "cell_type": "code",
      "source": [
        "df = pd.read_json('https://raw.githubusercontent.com/code4shiogama/covid19-miyagi/development/data/data.json')\n",
        "l = df['patients_summary']['data']\n",
        "json = [{'date': j['日付'], 'count': j['小計'], } for j in l]\n",
        "json[-5:]"
      ],
      "metadata": {
        "colab": {
          "base_uri": "https://localhost:8080/"
        },
        "id": "lUuwpjozz3uY",
        "outputId": "9f0b1134-b675-4c94-a136-8cff86ad8df1"
      },
      "execution_count": 22,
      "outputs": [
        {
          "output_type": "execute_result",
          "data": {
            "text/plain": [
              "[{'count': 1, 'date': '2021-12-18T08:00:00.000Z'},\n",
              " {'count': 0, 'date': '2021-12-19T08:00:00.000Z'},\n",
              " {'count': 0, 'date': '2021-12-20T08:00:00.000Z'},\n",
              " {'count': 1, 'date': '2021-12-21T08:00:00.000Z'},\n",
              " {'count': 1, 'date': '2021-12-22T08:00:00.000Z'}]"
            ]
          },
          "metadata": {},
          "execution_count": 22
        }
      ]
    },
    {
      "cell_type": "code",
      "source": [
        "df = pd.read_json('https://raw.githubusercontent.com/code4akita/covid19-akita/development/data/data.json')\n",
        "l = df['patients_summary']['data']\n",
        "json = [{'date': j['日付'], 'count': j['小計'], } for j in l]\n",
        "json[-5:]"
      ],
      "metadata": {
        "colab": {
          "base_uri": "https://localhost:8080/"
        },
        "id": "AgSuWOQUz3eg",
        "outputId": "61b54de1-3c56-4ece-d67c-08789e1bce73"
      },
      "execution_count": 23,
      "outputs": [
        {
          "output_type": "execute_result",
          "data": {
            "text/plain": [
              "[{'count': 92, 'date': '2022-02-01T00:00:00+00:00'},\n",
              " {'count': 0, 'date': '2022-02-02T00:00:00+00:00'},\n",
              " {'count': 0, 'date': '2022-02-03T00:00:00+00:00'},\n",
              " {'count': 0, 'date': '2022-02-04T00:00:00+00:00'},\n",
              " {'count': 0, 'date': '2022-02-05T00:00:00+00:00'}]"
            ]
          },
          "metadata": {},
          "execution_count": 23
        }
      ]
    },
    {
      "cell_type": "code",
      "source": [
        "df = pd.read_json('https://raw.githubusercontent.com/yamaserif/covid19/development/data/data.json')\n",
        "l = df['patients_summary']['data']\n",
        "json = [{'date': j['日付'], 'count': j['小計'], } for j in l]\n",
        "json[-5:]"
      ],
      "metadata": {
        "colab": {
          "base_uri": "https://localhost:8080/"
        },
        "id": "MYNLWZ1hz3Pa",
        "outputId": "7e763460-d408-4eab-8d49-9b963499f3c1"
      },
      "execution_count": 24,
      "outputs": [
        {
          "output_type": "execute_result",
          "data": {
            "text/plain": [
              "[{'count': 240, 'date': '2022-03-30T03:00:00+09:00'},\n",
              " {'count': 252, 'date': '2022-03-31T03:00:00+09:00'},\n",
              " {'count': 170, 'date': '2022-04-01T03:00:00+09:00'},\n",
              " {'count': 187, 'date': '2022-04-02T03:00:00+09:00'},\n",
              " {'count': 141, 'date': '2022-04-03T03:00:00+09:00'}]"
            ]
          },
          "metadata": {},
          "execution_count": 24
        }
      ]
    },
    {
      "cell_type": "code",
      "source": [
        "df = pd.read_json('https://www.pref.kanagawa.jp/osirase/1369/data/data.json')\n",
        "l = df.loc['daily_patients_count']['patient']['data']\n",
        "json = [{'date': j['label'], 'count': j['value'], } for j in l]\n",
        "json[-5:]"
      ],
      "metadata": {
        "colab": {
          "base_uri": "https://localhost:8080/"
        },
        "id": "CZt6K87bz3B2",
        "outputId": "cec43a0b-e127-4f86-aa70-6b5f12f1db44"
      },
      "execution_count": 25,
      "outputs": [
        {
          "output_type": "execute_result",
          "data": {
            "text/plain": [
              "[{'count': 3794, 'date': '22/03/30'},\n",
              " {'count': 3887, 'date': '22/03/31'},\n",
              " {'count': 3653, 'date': '22/04/01'},\n",
              " {'count': 4806, 'date': '22/04/02'},\n",
              " {'count': 4244, 'date': '22/04/03'}]"
            ]
          },
          "metadata": {},
          "execution_count": 25
        }
      ]
    },
    {
      "cell_type": "code",
      "source": [
        "df = pd.read_json('https://raw.githubusercontent.com/terachan0117/covid19-toyama/development/data/patients_number.json')\n",
        "l = df['data'].to_list()\n",
        "json = [{'date': j['日付'], 'count': j['小計'], } for j in l]\n",
        "json[-5:]"
      ],
      "metadata": {
        "id": "8fM9IIHfz2yw",
        "colab": {
          "base_uri": "https://localhost:8080/"
        },
        "outputId": "cfa0c9ef-7db7-4e4b-df35-3b6ece75acf2"
      },
      "execution_count": 26,
      "outputs": [
        {
          "output_type": "execute_result",
          "data": {
            "text/plain": [
              "[{'count': 292, 'date': '2022-03-30'},\n",
              " {'count': 289, 'date': '2022-03-31'},\n",
              " {'count': 253, 'date': '2022-04-01'},\n",
              " {'count': 208, 'date': '2022-04-02'},\n",
              " {'count': 180, 'date': '2022-04-03'}]"
            ]
          },
          "metadata": {},
          "execution_count": 26
        }
      ]
    },
    {
      "cell_type": "code",
      "source": [
        "df = pd.read_json('https://raw.githubusercontent.com/covid19-yamanashi/covid19/development/data/data.json')\n",
        "l = df['patients_summary']['data']\n",
        "json = [{'date': j['日付'], 'count': j['小計'], } for j in l]\n",
        "json[-5:]"
      ],
      "metadata": {
        "id": "vikp_1jxz2mP",
        "colab": {
          "base_uri": "https://localhost:8080/"
        },
        "outputId": "faf0a24c-9f6d-43c8-cfa1-51d7d2b4062d"
      },
      "execution_count": 27,
      "outputs": [
        {
          "output_type": "execute_result",
          "data": {
            "text/plain": [
              "[{'count': 256, 'date': '2022-01-30T00:00:00+09:00'},\n",
              " {'count': 197, 'date': '2022-01-31T00:00:00+09:00'},\n",
              " {'count': 338, 'date': '2022-02-01T00:00:00+09:00'},\n",
              " {'count': 365, 'date': '2022-02-02T00:00:00+09:00'},\n",
              " {'count': 299, 'date': '2022-02-03T00:00:00+09:00'}]"
            ]
          },
          "metadata": {},
          "execution_count": 27
        }
      ]
    },
    {
      "cell_type": "code",
      "source": [
        "# df = pd.read_json('https://db7rdtcq3byow.cloudfront.net/data.json')\n",
        "# l = df['patients_summary']['data']\n",
        "# json = [{'date': j['日付'], 'count': j['小計'], } for j in l]\n",
        "# json[-5:]"
      ],
      "metadata": {
        "id": "nV9ETSsXz2X7"
      },
      "execution_count": 28,
      "outputs": []
    },
    {
      "cell_type": "code",
      "source": [
        "df = pd.read_json('https://raw.githubusercontent.com/sakurum/covid19-mie-getdata/gh-pages/data.json')\n",
        "l = df['patients_summary']['data']\n",
        "json = [{'date': j['日付'], 'count': j['小計'], } for j in l]\n",
        "json[-5:]"
      ],
      "metadata": {
        "id": "Wbck5oIXz2Jl",
        "colab": {
          "base_uri": "https://localhost:8080/"
        },
        "outputId": "44781939-d8fd-43fd-a689-729b78c85257"
      },
      "execution_count": 29,
      "outputs": [
        {
          "output_type": "execute_result",
          "data": {
            "text/plain": [
              "[{'count': 220, 'date': '2022-01-14T00:00:00.000+09:00'},\n",
              " {'count': 206, 'date': '2022-01-15T00:00:00.000+09:00'},\n",
              " {'count': 157, 'date': '2022-01-16T00:00:00.000+09:00'},\n",
              " {'count': 224, 'date': '2022-01-17T00:00:00.000+09:00'},\n",
              " {'count': 222, 'date': '2022-01-18T00:00:00.000+09:00'}]"
            ]
          },
          "metadata": {},
          "execution_count": 29
        }
      ]
    },
    {
      "cell_type": "code",
      "source": [
        "df = pd.read_json('https://raw.githubusercontent.com/stop-covid19-kyoto/covid19-kyoto/development/data/patients_summary.json')\n",
        "l = df['data'].to_list()\n",
        "json = [{'date': j['日付'], 'count': j['小計'], } for j in l]\n",
        "json[-5:]"
      ],
      "metadata": {
        "id": "fmQU7m0oz159",
        "colab": {
          "base_uri": "https://localhost:8080/"
        },
        "outputId": "e47cc6bb-3974-4fc2-b95f-fd9435e31a7d"
      },
      "execution_count": 30,
      "outputs": [
        {
          "output_type": "execute_result",
          "data": {
            "text/plain": [
              "[{'count': 699, 'date': '2022-03-29T08:00:00.000Z'},\n",
              " {'count': 1166, 'date': '2022-03-30T08:00:00.000Z'},\n",
              " {'count': 1092, 'date': '2022-03-31T08:00:00.000Z'},\n",
              " {'count': 987, 'date': '2022-04-01T08:00:00.000Z'},\n",
              " {'count': 963, 'date': '2022-04-02T08:00:00.000Z'}]"
            ]
          },
          "metadata": {},
          "execution_count": 30
        }
      ]
    },
    {
      "cell_type": "code",
      "source": [
        "df = pd.read_json('https://raw.githubusercontent.com/stop-covid19-hyogo/covid19/development/data/patients_summary.json')\n",
        "l = df['data'].to_list()\n",
        "json = [{'date': j['日付'], 'count': j['小計'], } for j in l]\n",
        "json[-5:]"
      ],
      "metadata": {
        "id": "2K_xvCvSz1rr",
        "colab": {
          "base_uri": "https://localhost:8080/"
        },
        "outputId": "941a46fd-eb7f-424b-d54e-36f008f43574"
      },
      "execution_count": 31,
      "outputs": [
        {
          "output_type": "execute_result",
          "data": {
            "text/plain": [
              "[{'count': 897, 'date': '2022-03-21T00:00:00+09:00'},\n",
              " {'count': 589, 'date': '2022-03-22T00:00:00+09:00'},\n",
              " {'count': 1971, 'date': '2022-03-23T00:00:00+09:00'},\n",
              " {'count': 2169, 'date': '2022-03-24T00:00:00+09:00'},\n",
              " {'count': 1900, 'date': '2022-03-25T00:00:00+09:00'}]"
            ]
          },
          "metadata": {},
          "execution_count": 31
        }
      ]
    },
    {
      "cell_type": "code",
      "source": [
        "df = pd.read_json('https://raw.githubusercontent.com/stopcovid19-okayama/covid19/development/data/patients_summary.json')\n",
        "l = df['data'].to_list()\n",
        "json = [{'date': j['日付'], 'count': j['小計'], } for j in l]\n",
        "json[-5:]"
      ],
      "metadata": {
        "id": "2fmtsM-Xz1eX",
        "colab": {
          "base_uri": "https://localhost:8080/"
        },
        "outputId": "94584b9d-0812-4eeb-c064-64dc6b750fae"
      },
      "execution_count": 32,
      "outputs": [
        {
          "output_type": "execute_result",
          "data": {
            "text/plain": [
              "[{'count': 651, 'date': '2022-03-30T08:00:00.000Z'},\n",
              " {'count': 545, 'date': '2022-03-31T08:00:00.000Z'},\n",
              " {'count': 461, 'date': '2022-04-01T08:00:00.000Z'},\n",
              " {'count': 529, 'date': '2022-04-02T08:00:00.000Z'},\n",
              " {'count': 457, 'date': '2022-04-03T08:00:00.000Z'}]"
            ]
          },
          "metadata": {},
          "execution_count": 32
        }
      ]
    },
    {
      "cell_type": "code",
      "source": [
        "df = pd.read_json('https://data-covid19-oita.netlify.app/data.json')\n",
        "l = df['patients_summary']['data']\n",
        "json = [{'date': j['日付'], 'count': j['小計'], } for j in l]\n",
        "json[-5:]"
      ],
      "metadata": {
        "id": "KY2ZY9Ryz1Q4",
        "colab": {
          "base_uri": "https://localhost:8080/"
        },
        "outputId": "118d99e5-9dde-4dd0-e7da-6b025f5b1f3e"
      },
      "execution_count": 33,
      "outputs": [
        {
          "output_type": "execute_result",
          "data": {
            "text/plain": [
              "[{'count': 350, 'date': '2022-03-29'},\n",
              " {'count': 398, 'date': '2022-03-30'},\n",
              " {'count': 411, 'date': '2022-03-31'},\n",
              " {'count': 416, 'date': '2022-04-01'},\n",
              " {'count': 0, 'date': '2022-04-02'}]"
            ]
          },
          "metadata": {},
          "execution_count": 33
        }
      ]
    },
    {
      "cell_type": "code",
      "source": [
        "df = pd.read_json('https://raw.githubusercontent.com/codeforkagoshima/covid19/development/data/data.json')\n",
        "l = df['patients_summary']['data']\n",
        "json = [{'date': j['日付'], 'count': j['小計'], } for j in l]\n",
        "json[-5:]"
      ],
      "metadata": {
        "id": "Nq9jp_avz1Cf",
        "colab": {
          "base_uri": "https://localhost:8080/"
        },
        "outputId": "b64f2525-0023-4840-e139-93bd736b3d0e"
      },
      "execution_count": 34,
      "outputs": [
        {
          "output_type": "execute_result",
          "data": {
            "text/plain": [
              "[{'count': 776, 'date': '2022-03-30T08:00:00.000Z'},\n",
              " {'count': 689, 'date': '2022-03-31T08:00:00.000Z'},\n",
              " {'count': 745, 'date': '2022-04-01T08:00:00.000Z'},\n",
              " {'count': 740, 'date': '2022-04-02T08:00:00.000Z'},\n",
              " {'count': 753, 'date': '2022-04-03T08:00:00.000Z'}]"
            ]
          },
          "metadata": {},
          "execution_count": 34
        }
      ]
    },
    {
      "cell_type": "code",
      "source": [
        ""
      ],
      "metadata": {
        "id": "g-iyqA0dz00t"
      },
      "execution_count": 34,
      "outputs": []
    },
    {
      "cell_type": "code",
      "source": [
        ""
      ],
      "metadata": {
        "id": "1qjFLzoHz0l2"
      },
      "execution_count": 34,
      "outputs": []
    },
    {
      "cell_type": "code",
      "source": [
        ""
      ],
      "metadata": {
        "id": "4oYvedAmz0Y0"
      },
      "execution_count": 34,
      "outputs": []
    },
    {
      "cell_type": "code",
      "source": [
        ""
      ],
      "metadata": {
        "id": "4GQ2JOmlz0LB"
      },
      "execution_count": 34,
      "outputs": []
    },
    {
      "cell_type": "code",
      "source": [
        ""
      ],
      "metadata": {
        "id": "24fO8SiIzz1K"
      },
      "execution_count": 34,
      "outputs": []
    },
    {
      "cell_type": "code",
      "metadata": {
        "id": "qqXB9M8aWUJF"
      },
      "source": [
        ""
      ],
      "execution_count": 34,
      "outputs": []
    }
  ]
}