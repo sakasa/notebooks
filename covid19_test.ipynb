{
  "nbformat": 4,
  "nbformat_minor": 0,
  "metadata": {
    "accelerator": "TPU",
    "colab": {
      "name": "covid19-test.ipynb",
      "provenance": [],
      "collapsed_sections": [],
      "include_colab_link": true
    },
    "kernelspec": {
      "display_name": "Python 3",
      "language": "python",
      "name": "python3"
    },
    "language_info": {
      "codemirror_mode": {
        "name": "ipython",
        "version": 3
      },
      "file_extension": ".py",
      "mimetype": "text/x-python",
      "name": "python",
      "nbconvert_exporter": "python",
      "pygments_lexer": "ipython3",
      "version": "3.8.6"
    }
  },
  "cells": [
    {
      "cell_type": "markdown",
      "metadata": {
        "id": "view-in-github",
        "colab_type": "text"
      },
      "source": [
        "<a href=\"https://colab.research.google.com/github/sakasa/notebooks/blob/master/covid19_test.ipynb\" target=\"_parent\"><img src=\"https://colab.research.google.com/assets/colab-badge.svg\" alt=\"Open In Colab\"/></a>"
      ]
    },
    {
      "cell_type": "code",
      "metadata": {
        "colab": {
          "base_uri": "https://localhost:8080/"
        },
        "id": "6ikqi9uZ2-lh",
        "outputId": "236969e2-7421-4105-fd0a-fb5aad71f375"
      },
      "source": [
        "!python -V"
      ],
      "execution_count": 1,
      "outputs": [
        {
          "output_type": "stream",
          "name": "stdout",
          "text": [
            "Python 3.7.13\n"
          ]
        }
      ]
    },
    {
      "cell_type": "code",
      "source": [
        ""
      ],
      "metadata": {
        "id": "1WPBWEpKyo5R"
      },
      "execution_count": 1,
      "outputs": []
    },
    {
      "cell_type": "code",
      "source": [
        "!pip -V"
      ],
      "metadata": {
        "colab": {
          "base_uri": "https://localhost:8080/"
        },
        "id": "dE6BGRtVzPW0",
        "outputId": "88353a6a-f584-4bfd-f27f-d76e262cc4e7"
      },
      "execution_count": 2,
      "outputs": [
        {
          "output_type": "stream",
          "name": "stdout",
          "text": [
            "pip 21.1.3 from /usr/local/lib/python3.7/dist-packages/pip (python 3.7)\n"
          ]
        }
      ]
    },
    {
      "cell_type": "code",
      "source": [
        "!pip install -U pip"
      ],
      "metadata": {
        "colab": {
          "base_uri": "https://localhost:8080/"
        },
        "id": "ZbF4MYmozRHV",
        "outputId": "a384fa8a-6d4e-4c7f-d2f6-d5e3e35d8978"
      },
      "execution_count": 3,
      "outputs": [
        {
          "output_type": "stream",
          "name": "stdout",
          "text": [
            "Requirement already satisfied: pip in /usr/local/lib/python3.7/dist-packages (21.1.3)\n",
            "Collecting pip\n",
            "  Downloading pip-22.0.4-py3-none-any.whl (2.1 MB)\n",
            "\u001b[K     |████████████████████████████████| 2.1 MB 11.2 MB/s \n",
            "\u001b[?25hInstalling collected packages: pip\n",
            "  Attempting uninstall: pip\n",
            "    Found existing installation: pip 21.1.3\n",
            "    Uninstalling pip-21.1.3:\n",
            "      Successfully uninstalled pip-21.1.3\n",
            "Successfully installed pip-22.0.4\n"
          ]
        }
      ]
    },
    {
      "cell_type": "code",
      "metadata": {
        "id": "OdoTl1tcHWga"
      },
      "source": [
        "import requests\n",
        "import json\n",
        "import numpy as np\n",
        "import pandas as pd\n",
        "import matplotlib.pyplot as plt\n",
        "import datetime\n",
        "import re\n",
        "from pytz import timezone\n",
        "from tqdm.notebook import tqdm\n",
        "\n",
        "%matplotlib inline"
      ],
      "execution_count": 4,
      "outputs": []
    },
    {
      "cell_type": "markdown",
      "metadata": {
        "id": "5cjvDuO1HWgb"
      },
      "source": [
        "### COVID19 Data\n",
        "https://github.com/tokyo-metropolitan-gov/covid19/blob/development/FORKED_SITES.md"
      ]
    },
    {
      "cell_type": "code",
      "source": [
        "df = pd.read_json('https://raw.githubusercontent.com/tokyo-metropolitan-gov/covid19/development/data/data.json')\n",
        "l = df['patients_summary']['data']\n",
        "json = [{'date': j['日付'], 'count': j['小計'], } for j in l]\n",
        "json[-5:]"
      ],
      "metadata": {
        "colab": {
          "base_uri": "https://localhost:8080/"
        },
        "id": "fJAj0n0KdhiS",
        "outputId": "d86b1aea-7e30-4d25-bbe7-7e2909aaf59e"
      },
      "execution_count": 5,
      "outputs": [
        {
          "output_type": "execute_result",
          "data": {
            "text/plain": [
              "[{'count': 7440, 'date': '2022-03-26T08:00:00.000Z'},\n",
              " {'count': 7844, 'date': '2022-03-27T08:00:00.000Z'},\n",
              " {'count': 4544, 'date': '2022-03-28T08:00:00.000Z'},\n",
              " {'count': 7846, 'date': '2022-03-29T08:00:00.000Z'},\n",
              " {'count': 9520, 'date': '2022-03-30T08:00:00.000Z'}]"
            ]
          },
          "metadata": {},
          "execution_count": 5
        }
      ]
    },
    {
      "cell_type": "code",
      "source": [
        "df = pd.read_json('https://codeforsapporo.github.io/covid19hokkaido_scraping/patients_summary.json')\n",
        "l = df['data'].to_list()\n",
        "json = [{'date': j['日付'], 'count': j['日陽性数'], } for j in l]\n",
        "json[-5:]"
      ],
      "metadata": {
        "colab": {
          "base_uri": "https://localhost:8080/"
        },
        "id": "66GEEq5Yz4Ia",
        "outputId": "d5e40c8a-77e9-43da-b589-eef8bc6bfbfe"
      },
      "execution_count": 6,
      "outputs": [
        {
          "output_type": "execute_result",
          "data": {
            "text/plain": [
              "[{'count': 1700, 'date': '2022-03-26'},\n",
              " {'count': 1497, 'date': '2022-03-27'},\n",
              " {'count': 1200, 'date': '2022-03-28'},\n",
              " {'count': 1367, 'date': '2022-03-29'},\n",
              " {'count': 1979, 'date': '2022-03-30'}]"
            ]
          },
          "metadata": {},
          "execution_count": 6
        }
      ]
    },
    {
      "cell_type": "code",
      "source": [
        "df = pd.read_json('https://raw.githubusercontent.com/MeditationDuck/covid19/development/data/data.json')\n",
        "l = df['patients_summary']['data']\n",
        "json = [{'date': j['日付'], 'count': j['小計'], } for j in l]\n",
        "json[-5:]"
      ],
      "metadata": {
        "colab": {
          "base_uri": "https://localhost:8080/"
        },
        "id": "pljh0th5z37q",
        "outputId": "3283a82e-ef0f-4738-be3c-11d56b3fcbf6"
      },
      "execution_count": 7,
      "outputs": [
        {
          "output_type": "execute_result",
          "data": {
            "text/plain": [
              "[{'count': 247, 'date': '2022-03-26'},\n",
              " {'count': 265, 'date': '2022-03-27'},\n",
              " {'count': 154, 'date': '2022-03-28'},\n",
              " {'count': 211, 'date': '2022-03-29'},\n",
              " {'count': 211, 'date': '2022-03-30'}]"
            ]
          },
          "metadata": {},
          "execution_count": 7
        }
      ]
    },
    {
      "cell_type": "code",
      "source": [
        "df = pd.read_json('https://raw.githubusercontent.com/code4shiogama/covid19-miyagi/development/data/data.json')\n",
        "l = df['patients_summary']['data']\n",
        "json = [{'date': j['日付'], 'count': j['小計'], } for j in l]\n",
        "json[-5:]"
      ],
      "metadata": {
        "colab": {
          "base_uri": "https://localhost:8080/"
        },
        "id": "lUuwpjozz3uY",
        "outputId": "65b4d11d-031b-4c89-f434-2242af58e45f"
      },
      "execution_count": 8,
      "outputs": [
        {
          "output_type": "execute_result",
          "data": {
            "text/plain": [
              "[{'count': 1, 'date': '2021-12-18T08:00:00.000Z'},\n",
              " {'count': 0, 'date': '2021-12-19T08:00:00.000Z'},\n",
              " {'count': 0, 'date': '2021-12-20T08:00:00.000Z'},\n",
              " {'count': 1, 'date': '2021-12-21T08:00:00.000Z'},\n",
              " {'count': 1, 'date': '2021-12-22T08:00:00.000Z'}]"
            ]
          },
          "metadata": {},
          "execution_count": 8
        }
      ]
    },
    {
      "cell_type": "code",
      "source": [
        "df = pd.read_json('https://raw.githubusercontent.com/code4akita/covid19-akita/development/data/data.json')\n",
        "l = df['patients_summary']['data']\n",
        "json = [{'date': j['日付'], 'count': j['小計'], } for j in l]\n",
        "json[-5:]"
      ],
      "metadata": {
        "colab": {
          "base_uri": "https://localhost:8080/"
        },
        "id": "AgSuWOQUz3eg",
        "outputId": "744a37a3-6820-4b3b-8cd3-8d114228f563"
      },
      "execution_count": 9,
      "outputs": [
        {
          "output_type": "execute_result",
          "data": {
            "text/plain": [
              "[{'count': 92, 'date': '2022-02-01T00:00:00+00:00'},\n",
              " {'count': 0, 'date': '2022-02-02T00:00:00+00:00'},\n",
              " {'count': 0, 'date': '2022-02-03T00:00:00+00:00'},\n",
              " {'count': 0, 'date': '2022-02-04T00:00:00+00:00'},\n",
              " {'count': 0, 'date': '2022-02-05T00:00:00+00:00'}]"
            ]
          },
          "metadata": {},
          "execution_count": 9
        }
      ]
    },
    {
      "cell_type": "code",
      "source": [
        "df = pd.read_json('https://raw.githubusercontent.com/yamaserif/covid19/development/data/data.json')\n",
        "l = df['patients_summary']['data']\n",
        "json = [{'date': j['日付'], 'count': j['小計'], } for j in l]\n",
        "json[-5:]"
      ],
      "metadata": {
        "colab": {
          "base_uri": "https://localhost:8080/"
        },
        "id": "MYNLWZ1hz3Pa",
        "outputId": "e485e6b1-bb28-442e-b6f9-1b06fb257231"
      },
      "execution_count": 10,
      "outputs": [
        {
          "output_type": "execute_result",
          "data": {
            "text/plain": [
              "[{'count': 195, 'date': '2022-03-26T03:00:00+09:00'},\n",
              " {'count': 168, 'date': '2022-03-27T03:00:00+09:00'},\n",
              " {'count': 156, 'date': '2022-03-28T03:00:00+09:00'},\n",
              " {'count': 184, 'date': '2022-03-29T03:00:00+09:00'},\n",
              " {'count': 240, 'date': '2022-03-30T03:00:00+09:00'}]"
            ]
          },
          "metadata": {},
          "execution_count": 10
        }
      ]
    },
    {
      "cell_type": "code",
      "source": [
        "df = pd.read_json('https://www.pref.kanagawa.jp/osirase/1369/data/data.json')\n",
        "l = df.loc['daily_patients_count']['patient']['data']\n",
        "json = [{'date': j['label'], 'count': j['value'], } for j in l]\n",
        "json[-5:]"
      ],
      "metadata": {
        "colab": {
          "base_uri": "https://localhost:8080/"
        },
        "id": "CZt6K87bz3B2",
        "outputId": "46c1af71-f0b4-4468-dade-b09554dca55f"
      },
      "execution_count": 11,
      "outputs": [
        {
          "output_type": "execute_result",
          "data": {
            "text/plain": [
              "[{'count': 4848, 'date': '22/03/26'},\n",
              " {'count': 3553, 'date': '22/03/27'},\n",
              " {'count': 3525, 'date': '22/03/28'},\n",
              " {'count': 3300, 'date': '22/03/29'},\n",
              " {'count': 3794, 'date': '22/03/30'}]"
            ]
          },
          "metadata": {},
          "execution_count": 11
        }
      ]
    },
    {
      "cell_type": "code",
      "source": [
        "df = pd.read_json('https://raw.githubusercontent.com/terachan0117/covid19-toyama/development/data/patients_number.json')\n",
        "l = df['data'].to_list()\n",
        "json = [{'date': j['日付'], 'count': j['小計'], } for j in l]\n",
        "json[-5:]"
      ],
      "metadata": {
        "id": "8fM9IIHfz2yw",
        "colab": {
          "base_uri": "https://localhost:8080/"
        },
        "outputId": "c5bb168f-f8fc-4596-d838-cd55e41bd3cd"
      },
      "execution_count": 12,
      "outputs": [
        {
          "output_type": "execute_result",
          "data": {
            "text/plain": [
              "[{'count': 235, 'date': '2022-03-26'},\n",
              " {'count': 225, 'date': '2022-03-27'},\n",
              " {'count': 109, 'date': '2022-03-28'},\n",
              " {'count': 224, 'date': '2022-03-29'},\n",
              " {'count': 292, 'date': '2022-03-30'}]"
            ]
          },
          "metadata": {},
          "execution_count": 12
        }
      ]
    },
    {
      "cell_type": "code",
      "source": [
        "df = pd.read_json('https://raw.githubusercontent.com/covid19-yamanashi/covid19/development/data/data.json')\n",
        "l = df['patients_summary']['data']\n",
        "json = [{'date': j['日付'], 'count': j['小計'], } for j in l]\n",
        "json[-5:]"
      ],
      "metadata": {
        "id": "vikp_1jxz2mP",
        "colab": {
          "base_uri": "https://localhost:8080/"
        },
        "outputId": "f32b9369-dd25-4f63-dca0-fd6f858bc279"
      },
      "execution_count": 13,
      "outputs": [
        {
          "output_type": "execute_result",
          "data": {
            "text/plain": [
              "[{'count': 256, 'date': '2022-01-30T00:00:00+09:00'},\n",
              " {'count': 197, 'date': '2022-01-31T00:00:00+09:00'},\n",
              " {'count': 338, 'date': '2022-02-01T00:00:00+09:00'},\n",
              " {'count': 365, 'date': '2022-02-02T00:00:00+09:00'},\n",
              " {'count': 299, 'date': '2022-02-03T00:00:00+09:00'}]"
            ]
          },
          "metadata": {},
          "execution_count": 13
        }
      ]
    },
    {
      "cell_type": "code",
      "source": [
        "df = pd.read_json('https://db7rdtcq3byow.cloudfront.net/data.json')\n",
        "l = df['patients_summary']['data']\n",
        "json = [{'date': j['日付'], 'count': j['小計'], } for j in l]\n",
        "json[-5:]"
      ],
      "metadata": {
        "id": "nV9ETSsXz2X7",
        "colab": {
          "base_uri": "https://localhost:8080/"
        },
        "outputId": "aca099cc-3026-4619-8b37-d11868dfca52"
      },
      "execution_count": 14,
      "outputs": [
        {
          "output_type": "execute_result",
          "data": {
            "text/plain": [
              "[{'count': 203, 'date': '2022-03-26T08:00:00.000Z'},\n",
              " {'count': 129, 'date': '2022-03-27T08:00:00.000Z'},\n",
              " {'count': 50, 'date': '2022-03-28T08:00:00.000Z'},\n",
              " {'count': 330, 'date': '2022-03-29T08:00:00.000Z'},\n",
              " {'count': 258, 'date': '2022-03-30T08:00:00.000Z'}]"
            ]
          },
          "metadata": {},
          "execution_count": 14
        }
      ]
    },
    {
      "cell_type": "code",
      "source": [
        "df = pd.read_json('https://raw.githubusercontent.com/sakurum/covid19-mie-getdata/gh-pages/data.json')\n",
        "l = df['patients_summary']['data']\n",
        "json = [{'date': j['日付'], 'count': j['小計'], } for j in l]\n",
        "json[-5:]"
      ],
      "metadata": {
        "id": "Wbck5oIXz2Jl",
        "colab": {
          "base_uri": "https://localhost:8080/"
        },
        "outputId": "1b2242c6-ed8e-4863-9f6b-3953c825e4c2"
      },
      "execution_count": 15,
      "outputs": [
        {
          "output_type": "execute_result",
          "data": {
            "text/plain": [
              "[{'count': 220, 'date': '2022-01-14T00:00:00.000+09:00'},\n",
              " {'count': 206, 'date': '2022-01-15T00:00:00.000+09:00'},\n",
              " {'count': 157, 'date': '2022-01-16T00:00:00.000+09:00'},\n",
              " {'count': 224, 'date': '2022-01-17T00:00:00.000+09:00'},\n",
              " {'count': 222, 'date': '2022-01-18T00:00:00.000+09:00'}]"
            ]
          },
          "metadata": {},
          "execution_count": 15
        }
      ]
    },
    {
      "cell_type": "code",
      "source": [
        "df = pd.read_json('https://raw.githubusercontent.com/stop-covid19-kyoto/covid19-kyoto/development/data/patients_summary.json')\n",
        "l = df['data'].to_list()\n",
        "json = [{'date': j['日付'], 'count': j['小計'], } for j in l]\n",
        "json[-5:]"
      ],
      "metadata": {
        "id": "fmQU7m0oz159",
        "colab": {
          "base_uri": "https://localhost:8080/"
        },
        "outputId": "455f71ca-ea39-4741-c2ee-b50586de6d96"
      },
      "execution_count": 16,
      "outputs": [
        {
          "output_type": "execute_result",
          "data": {
            "text/plain": [
              "[{'count': 839, 'date': '2022-03-26T08:00:00.000Z'},\n",
              " {'count': 864, 'date': '2022-03-27T08:00:00.000Z'},\n",
              " {'count': 518, 'date': '2022-03-28T08:00:00.000Z'},\n",
              " {'count': 699, 'date': '2022-03-29T08:00:00.000Z'},\n",
              " {'count': 1166, 'date': '2022-03-30T08:00:00.000Z'}]"
            ]
          },
          "metadata": {},
          "execution_count": 16
        }
      ]
    },
    {
      "cell_type": "code",
      "source": [
        "df = pd.read_json('https://raw.githubusercontent.com/stop-covid19-hyogo/covid19/development/data/patients_summary.json')\n",
        "l = df['data'].to_list()\n",
        "json = [{'date': j['日付'], 'count': j['小計'], } for j in l]\n",
        "json[-5:]"
      ],
      "metadata": {
        "id": "2K_xvCvSz1rr",
        "colab": {
          "base_uri": "https://localhost:8080/"
        },
        "outputId": "45d43760-2c39-4eb5-cbb0-e1f56f3d8f46"
      },
      "execution_count": 17,
      "outputs": [
        {
          "output_type": "execute_result",
          "data": {
            "text/plain": [
              "[{'count': 897, 'date': '2022-03-21T00:00:00+09:00'},\n",
              " {'count': 589, 'date': '2022-03-22T00:00:00+09:00'},\n",
              " {'count': 1971, 'date': '2022-03-23T00:00:00+09:00'},\n",
              " {'count': 2169, 'date': '2022-03-24T00:00:00+09:00'},\n",
              " {'count': 1900, 'date': '2022-03-25T00:00:00+09:00'}]"
            ]
          },
          "metadata": {},
          "execution_count": 17
        }
      ]
    },
    {
      "cell_type": "code",
      "source": [
        "df = pd.read_json('https://raw.githubusercontent.com/stopcovid19-okayama/covid19/development/data/patients_summary.json')\n",
        "l = df['data'].to_list()\n",
        "json = [{'date': j['日付'], 'count': j['小計'], } for j in l]\n",
        "json[-5:]"
      ],
      "metadata": {
        "id": "2fmtsM-Xz1eX",
        "colab": {
          "base_uri": "https://localhost:8080/"
        },
        "outputId": "c915f4fb-8476-4986-eab3-e58e9838f21d"
      },
      "execution_count": 18,
      "outputs": [
        {
          "output_type": "execute_result",
          "data": {
            "text/plain": [
              "[{'count': 366, 'date': '2022-03-26T08:00:00.000Z'},\n",
              " {'count': 415, 'date': '2022-03-27T08:00:00.000Z'},\n",
              " {'count': 255, 'date': '2022-03-28T08:00:00.000Z'},\n",
              " {'count': 343, 'date': '2022-03-29T08:00:00.000Z'},\n",
              " {'count': 651, 'date': '2022-03-30T08:00:00.000Z'}]"
            ]
          },
          "metadata": {},
          "execution_count": 18
        }
      ]
    },
    {
      "cell_type": "code",
      "source": [
        "df = pd.read_json('https://data-covid19-oita.netlify.app/data.json')\n",
        "l = df['patients_summary']['data']\n",
        "json = [{'date': j['日付'], 'count': j['小計'], } for j in l]\n",
        "json[-5:]"
      ],
      "metadata": {
        "id": "KY2ZY9Ryz1Q4",
        "colab": {
          "base_uri": "https://localhost:8080/"
        },
        "outputId": "4ad4e135-21fb-43d9-b937-a0b3227acf69"
      },
      "execution_count": 19,
      "outputs": [
        {
          "output_type": "execute_result",
          "data": {
            "text/plain": [
              "[{'count': 283, 'date': '2022-03-26'},\n",
              " {'count': 246, 'date': '2022-03-27'},\n",
              " {'count': 240, 'date': '2022-03-28'},\n",
              " {'count': 350, 'date': '2022-03-29'},\n",
              " {'count': 398, 'date': '2022-03-30'}]"
            ]
          },
          "metadata": {},
          "execution_count": 19
        }
      ]
    },
    {
      "cell_type": "code",
      "source": [
        "df = pd.read_json('https://raw.githubusercontent.com/codeforkagoshima/covid19/development/data/data.json')\n",
        "l = df['patients_summary']['data']\n",
        "json = [{'date': j['日付'], 'count': j['小計'], } for j in l]\n",
        "json[-5:]"
      ],
      "metadata": {
        "id": "Nq9jp_avz1Cf",
        "colab": {
          "base_uri": "https://localhost:8080/"
        },
        "outputId": "398c6b2c-7663-4d33-b8ad-8610e97d9936"
      },
      "execution_count": 20,
      "outputs": [
        {
          "output_type": "execute_result",
          "data": {
            "text/plain": [
              "[{'count': 597, 'date': '2022-03-26T08:00:00.000Z'},\n",
              " {'count': 468, 'date': '2022-03-27T08:00:00.000Z'},\n",
              " {'count': 330, 'date': '2022-03-28T08:00:00.000Z'},\n",
              " {'count': 759, 'date': '2022-03-29T08:00:00.000Z'},\n",
              " {'count': 776, 'date': '2022-03-30T08:00:00.000Z'}]"
            ]
          },
          "metadata": {},
          "execution_count": 20
        }
      ]
    },
    {
      "cell_type": "code",
      "source": [
        ""
      ],
      "metadata": {
        "id": "g-iyqA0dz00t"
      },
      "execution_count": 20,
      "outputs": []
    },
    {
      "cell_type": "code",
      "source": [
        ""
      ],
      "metadata": {
        "id": "1qjFLzoHz0l2"
      },
      "execution_count": 20,
      "outputs": []
    },
    {
      "cell_type": "code",
      "source": [
        ""
      ],
      "metadata": {
        "id": "4oYvedAmz0Y0"
      },
      "execution_count": 20,
      "outputs": []
    },
    {
      "cell_type": "code",
      "source": [
        ""
      ],
      "metadata": {
        "id": "4GQ2JOmlz0LB"
      },
      "execution_count": 20,
      "outputs": []
    },
    {
      "cell_type": "code",
      "source": [
        ""
      ],
      "metadata": {
        "id": "24fO8SiIzz1K"
      },
      "execution_count": 20,
      "outputs": []
    },
    {
      "cell_type": "code",
      "metadata": {
        "id": "qqXB9M8aWUJF"
      },
      "source": [
        ""
      ],
      "execution_count": 20,
      "outputs": []
    }
  ]
}