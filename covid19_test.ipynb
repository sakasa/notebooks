{
  "nbformat": 4,
  "nbformat_minor": 0,
  "metadata": {
    "accelerator": "TPU",
    "colab": {
      "name": "covid19-test.ipynb",
      "provenance": [],
      "collapsed_sections": [],
      "include_colab_link": true
    },
    "kernelspec": {
      "display_name": "Python 3",
      "language": "python",
      "name": "python3"
    },
    "language_info": {
      "codemirror_mode": {
        "name": "ipython",
        "version": 3
      },
      "file_extension": ".py",
      "mimetype": "text/x-python",
      "name": "python",
      "nbconvert_exporter": "python",
      "pygments_lexer": "ipython3",
      "version": "3.8.6"
    }
  },
  "cells": [
    {
      "cell_type": "markdown",
      "metadata": {
        "id": "view-in-github",
        "colab_type": "text"
      },
      "source": [
        "<a href=\"https://colab.research.google.com/github/sakasa/notebooks/blob/master/covid19_test.ipynb\" target=\"_parent\"><img src=\"https://colab.research.google.com/assets/colab-badge.svg\" alt=\"Open In Colab\"/></a>"
      ]
    },
    {
      "cell_type": "code",
      "metadata": {
        "colab": {
          "base_uri": "https://localhost:8080/"
        },
        "id": "6ikqi9uZ2-lh",
        "outputId": "733c691f-8ad8-47cc-bad8-6429d4f9d1ee"
      },
      "source": [
        "!python -V"
      ],
      "execution_count": 1,
      "outputs": [
        {
          "output_type": "stream",
          "name": "stdout",
          "text": [
            "Python 3.7.12\n"
          ]
        }
      ]
    },
    {
      "cell_type": "code",
      "source": [
        "!pip -V"
      ],
      "metadata": {
        "colab": {
          "base_uri": "https://localhost:8080/"
        },
        "id": "dE6BGRtVzPW0",
        "outputId": "726e73e5-46cd-4f0d-8225-b74a4435c7b5"
      },
      "execution_count": 2,
      "outputs": [
        {
          "output_type": "stream",
          "name": "stdout",
          "text": [
            "pip 21.1.3 from /usr/local/lib/python3.7/dist-packages/pip (python 3.7)\n"
          ]
        }
      ]
    },
    {
      "cell_type": "code",
      "source": [
        "!pip install -U pip"
      ],
      "metadata": {
        "colab": {
          "base_uri": "https://localhost:8080/"
        },
        "id": "ZbF4MYmozRHV",
        "outputId": "0e34e692-e70c-44c4-d632-305e58348a37"
      },
      "execution_count": 3,
      "outputs": [
        {
          "output_type": "stream",
          "name": "stdout",
          "text": [
            "Requirement already satisfied: pip in /usr/local/lib/python3.7/dist-packages (21.1.3)\n",
            "Collecting pip\n",
            "  Downloading pip-22.0.2-py3-none-any.whl (2.1 MB)\n",
            "\u001b[K     |████████████████████████████████| 2.1 MB 5.1 MB/s \n",
            "\u001b[?25hInstalling collected packages: pip\n",
            "  Attempting uninstall: pip\n",
            "    Found existing installation: pip 21.1.3\n",
            "    Uninstalling pip-21.1.3:\n",
            "      Successfully uninstalled pip-21.1.3\n",
            "Successfully installed pip-22.0.2\n"
          ]
        }
      ]
    },
    {
      "cell_type": "code",
      "metadata": {
        "id": "OdoTl1tcHWga"
      },
      "source": [
        "import requests\n",
        "import json\n",
        "import numpy as np\n",
        "import pandas as pd\n",
        "import matplotlib.pyplot as plt\n",
        "import datetime\n",
        "import re\n",
        "from pytz import timezone\n",
        "from tqdm.notebook import tqdm\n",
        "\n",
        "%matplotlib inline"
      ],
      "execution_count": 4,
      "outputs": []
    },
    {
      "cell_type": "markdown",
      "metadata": {
        "id": "5cjvDuO1HWgb"
      },
      "source": [
        "### COVID19 Data\n",
        "https://github.com/tokyo-metropolitan-gov/covid19/blob/development/FORKED_SITES.md"
      ]
    },
    {
      "cell_type": "code",
      "source": [
        "df = pd.read_json('https://raw.githubusercontent.com/tokyo-metropolitan-gov/covid19/development/data/data.json')\n",
        "l = df['patients_summary']['data']\n",
        "json = [{'date': j['日付'], 'count': j['小計'], } for j in l]\n",
        "json[-5:]"
      ],
      "metadata": {
        "colab": {
          "base_uri": "https://localhost:8080/"
        },
        "id": "fJAj0n0KdhiS",
        "outputId": "904579f0-a8c3-4c6c-b4ce-1f353b9ab301"
      },
      "execution_count": 5,
      "outputs": [
        {
          "output_type": "execute_result",
          "data": {
            "text/plain": [
              "[{'count': 17433, 'date': '2022-01-29T08:00:00.000Z'},\n",
              " {'count': 15895, 'date': '2022-01-30T08:00:00.000Z'},\n",
              " {'count': 11751, 'date': '2022-01-31T08:00:00.000Z'},\n",
              " {'count': 14445, 'date': '2022-02-01T08:00:00.000Z'},\n",
              " {'count': 21576, 'date': '2022-02-02T08:00:00.000Z'}]"
            ]
          },
          "metadata": {},
          "execution_count": 5
        }
      ]
    },
    {
      "cell_type": "code",
      "source": [
        "df = pd.read_json('https://codeforsapporo.github.io/covid19hokkaido_scraping/patients_summary.json')\n",
        "l = df['data'].to_list()\n",
        "json = [{'date': j['日付'], 'count': j['日陽性数'], } for j in l]\n",
        "json[-5:]"
      ],
      "metadata": {
        "colab": {
          "base_uri": "https://localhost:8080/"
        },
        "id": "66GEEq5Yz4Ia",
        "outputId": "2520992b-76bc-4d2c-c8e6-f43492e75286"
      },
      "execution_count": 6,
      "outputs": [
        {
          "output_type": "execute_result",
          "data": {
            "text/plain": [
              "[{'count': 2775, 'date': '2022-01-28'},\n",
              " {'count': 3002, 'date': '2022-01-29'},\n",
              " {'count': 2782, 'date': '2022-01-30'},\n",
              " {'count': 2266, 'date': '2022-01-31'},\n",
              " {'count': 2660, 'date': '2022-02-01'}]"
            ]
          },
          "metadata": {},
          "execution_count": 6
        }
      ]
    },
    {
      "cell_type": "code",
      "source": [
        "df = pd.read_json('https://raw.githubusercontent.com/MeditationDuck/covid19/development/data/data.json')\n",
        "l = df['patients_summary']['data']\n",
        "json = [{'date': j['日付'], 'count': j['小計'], } for j in l]\n",
        "json[-5:]"
      ],
      "metadata": {
        "colab": {
          "base_uri": "https://localhost:8080/"
        },
        "id": "pljh0th5z37q",
        "outputId": "f61e7493-fc91-4523-f10e-b25c491c96ee"
      },
      "execution_count": 7,
      "outputs": [
        {
          "output_type": "execute_result",
          "data": {
            "text/plain": [
              "[{'count': 155, 'date': '2022-01-29'},\n",
              " {'count': 105, 'date': '2022-01-30'},\n",
              " {'count': 142, 'date': '2022-01-31'},\n",
              " {'count': 119, 'date': '2022-02-01'},\n",
              " {'count': 121, 'date': '2022-02-02'}]"
            ]
          },
          "metadata": {},
          "execution_count": 7
        }
      ]
    },
    {
      "cell_type": "code",
      "source": [
        "df = pd.read_json('https://raw.githubusercontent.com/code4shiogama/covid19-miyagi/development/data/data.json')\n",
        "l = df['patients_summary']['data']\n",
        "json = [{'date': j['日付'], 'count': j['小計'], } for j in l]\n",
        "json[-5:]"
      ],
      "metadata": {
        "colab": {
          "base_uri": "https://localhost:8080/"
        },
        "id": "lUuwpjozz3uY",
        "outputId": "4c89844e-41fa-473b-bdc3-8ccb8b835996"
      },
      "execution_count": 8,
      "outputs": [
        {
          "output_type": "execute_result",
          "data": {
            "text/plain": [
              "[{'count': 1, 'date': '2021-12-18T08:00:00.000Z'},\n",
              " {'count': 0, 'date': '2021-12-19T08:00:00.000Z'},\n",
              " {'count': 0, 'date': '2021-12-20T08:00:00.000Z'},\n",
              " {'count': 1, 'date': '2021-12-21T08:00:00.000Z'},\n",
              " {'count': 1, 'date': '2021-12-22T08:00:00.000Z'}]"
            ]
          },
          "metadata": {},
          "execution_count": 8
        }
      ]
    },
    {
      "cell_type": "code",
      "source": [
        "df = pd.read_json('https://raw.githubusercontent.com/code4akita/covid19-akita/development/data/data.json')\n",
        "l = df['patients_summary']['data']\n",
        "json = [{'date': j['日付'], 'count': j['小計'], } for j in l]\n",
        "json[-5:]"
      ],
      "metadata": {
        "colab": {
          "base_uri": "https://localhost:8080/"
        },
        "id": "AgSuWOQUz3eg",
        "outputId": "a183cab4-67f7-4134-abe7-a8af2e5967d1"
      },
      "execution_count": 9,
      "outputs": [
        {
          "output_type": "execute_result",
          "data": {
            "text/plain": [
              "[{'count': 0, 'date': '2022-01-29T00:00:00+00:00'},\n",
              " {'count': 0, 'date': '2022-01-30T00:00:00+00:00'},\n",
              " {'count': 0, 'date': '2022-01-31T00:00:00+00:00'},\n",
              " {'count': 0, 'date': '2022-02-01T00:00:00+00:00'},\n",
              " {'count': 0, 'date': '2022-02-02T00:00:00+00:00'}]"
            ]
          },
          "metadata": {},
          "execution_count": 9
        }
      ]
    },
    {
      "cell_type": "code",
      "source": [
        "df = pd.read_json('https://raw.githubusercontent.com/yamaserif/covid19/development/data/data.json')\n",
        "l = df['patients_summary']['data']\n",
        "json = [{'date': j['日付'], 'count': j['小計'], } for j in l]\n",
        "json[-5:]"
      ],
      "metadata": {
        "colab": {
          "base_uri": "https://localhost:8080/"
        },
        "id": "MYNLWZ1hz3Pa",
        "outputId": "aabf91d6-29cc-4c9e-d9e9-e642e6843fe9"
      },
      "execution_count": 10,
      "outputs": [
        {
          "output_type": "execute_result",
          "data": {
            "text/plain": [
              "[{'count': 170, 'date': '2022-01-29T03:00:00+09:00'},\n",
              " {'count': 257, 'date': '2022-01-30T03:00:00+09:00'},\n",
              " {'count': 156, 'date': '2022-01-31T03:00:00+09:00'},\n",
              " {'count': 283, 'date': '2022-02-01T03:00:00+09:00'},\n",
              " {'count': 276, 'date': '2022-02-02T03:00:00+09:00'}]"
            ]
          },
          "metadata": {},
          "execution_count": 10
        }
      ]
    },
    {
      "cell_type": "code",
      "source": [
        "df = pd.read_json('https://www.pref.kanagawa.jp/osirase/1369/data/data.json')\n",
        "l = df.loc['daily_patients_count']['patient']['data']\n",
        "json = [{'date': j['label'], 'count': j['value'], } for j in l]\n",
        "json[-5:]"
      ],
      "metadata": {
        "colab": {
          "base_uri": "https://localhost:8080/"
        },
        "id": "CZt6K87bz3B2",
        "outputId": "9a11219d-db00-4a7d-b0eb-2ede7f8a1ce3"
      },
      "execution_count": 11,
      "outputs": [
        {
          "output_type": "execute_result",
          "data": {
            "text/plain": [
              "[{'count': 8697, 'date': '22/01/29'},\n",
              " {'count': 6141, 'date': '22/01/30'},\n",
              " {'count': 6999, 'date': '22/01/31'},\n",
              " {'count': 7459, 'date': '22/02/01'},\n",
              " {'count': 7610, 'date': '22/02/02'}]"
            ]
          },
          "metadata": {},
          "execution_count": 11
        }
      ]
    },
    {
      "cell_type": "code",
      "source": [
        "df = pd.read_json('https://raw.githubusercontent.com/terachan0117/covid19-toyama/development/data/patients_number.json')\n",
        "l = df['data'].to_list()\n",
        "json = [{'date': j['日付'], 'count': j['小計'], } for j in l]\n",
        "json[-5:]"
      ],
      "metadata": {
        "id": "8fM9IIHfz2yw",
        "colab": {
          "base_uri": "https://localhost:8080/"
        },
        "outputId": "a1a5b29b-ad07-41c7-a65e-7f5871174653"
      },
      "execution_count": 12,
      "outputs": [
        {
          "output_type": "execute_result",
          "data": {
            "text/plain": [
              "[{'count': 229, 'date': '2022-01-29'},\n",
              " {'count': 271, 'date': '2022-01-30'},\n",
              " {'count': 201, 'date': '2022-01-31'},\n",
              " {'count': 181, 'date': '2022-02-01'},\n",
              " {'count': 296, 'date': '2022-02-02'}]"
            ]
          },
          "metadata": {},
          "execution_count": 12
        }
      ]
    },
    {
      "cell_type": "code",
      "source": [
        "df = pd.read_json('https://raw.githubusercontent.com/covid19-yamanashi/covid19/development/data/data.json')\n",
        "l = df['patients_summary']['data']\n",
        "json = [{'date': j['日付'], 'count': j['小計'], } for j in l]\n",
        "json[-5:]"
      ],
      "metadata": {
        "id": "vikp_1jxz2mP",
        "colab": {
          "base_uri": "https://localhost:8080/"
        },
        "outputId": "c1e3e5a9-da25-4e0d-a539-395f7915e399"
      },
      "execution_count": 13,
      "outputs": [
        {
          "output_type": "execute_result",
          "data": {
            "text/plain": [
              "[{'count': 135, 'date': '2022-01-19T00:00:00+09:00'},\n",
              " {'count': 180, 'date': '2022-01-20T00:00:00+09:00'},\n",
              " {'count': 159, 'date': '2022-01-21T00:00:00+09:00'},\n",
              " {'count': 202, 'date': '2022-01-22T00:00:00+09:00'},\n",
              " {'count': 155, 'date': '2022-01-23T00:00:00+09:00'}]"
            ]
          },
          "metadata": {},
          "execution_count": 13
        }
      ]
    },
    {
      "cell_type": "code",
      "source": [
        "df = pd.read_json('https://db7rdtcq3byow.cloudfront.net/data.json')\n",
        "l = df['patients_summary']['data']\n",
        "json = [{'date': j['日付'], 'count': j['小計'], } for j in l]\n",
        "json[-5:]"
      ],
      "metadata": {
        "id": "nV9ETSsXz2X7",
        "colab": {
          "base_uri": "https://localhost:8080/"
        },
        "outputId": "906348e7-2292-43ef-e46b-7ebb454498a4"
      },
      "execution_count": 14,
      "outputs": [
        {
          "output_type": "execute_result",
          "data": {
            "text/plain": [
              "[{'count': 374, 'date': '2022-01-29T08:00:00.000Z'},\n",
              " {'count': 276, 'date': '2022-01-30T08:00:00.000Z'},\n",
              " {'count': 159, 'date': '2022-01-31T08:00:00.000Z'},\n",
              " {'count': 444, 'date': '2022-02-01T08:00:00.000Z'},\n",
              " {'count': 337, 'date': '2022-02-02T08:00:00.000Z'}]"
            ]
          },
          "metadata": {},
          "execution_count": 14
        }
      ]
    },
    {
      "cell_type": "code",
      "source": [
        "df = pd.read_json('https://raw.githubusercontent.com/sakurum/covid19-mie-getdata/gh-pages/data.json')\n",
        "l = df['patients_summary']['data']\n",
        "json = [{'date': j['日付'], 'count': j['小計'], } for j in l]\n",
        "json[-5:]"
      ],
      "metadata": {
        "id": "Wbck5oIXz2Jl",
        "colab": {
          "base_uri": "https://localhost:8080/"
        },
        "outputId": "c8ef9a47-bbab-42d7-c7e1-68cd87e33d5a"
      },
      "execution_count": 15,
      "outputs": [
        {
          "output_type": "execute_result",
          "data": {
            "text/plain": [
              "[{'count': 220, 'date': '2022-01-14T00:00:00.000+09:00'},\n",
              " {'count': 206, 'date': '2022-01-15T00:00:00.000+09:00'},\n",
              " {'count': 157, 'date': '2022-01-16T00:00:00.000+09:00'},\n",
              " {'count': 224, 'date': '2022-01-17T00:00:00.000+09:00'},\n",
              " {'count': 222, 'date': '2022-01-18T00:00:00.000+09:00'}]"
            ]
          },
          "metadata": {},
          "execution_count": 15
        }
      ]
    },
    {
      "cell_type": "code",
      "source": [
        "df = pd.read_json('https://raw.githubusercontent.com/stop-covid19-kyoto/covid19-kyoto/development/data/patients_summary.json')\n",
        "l = df['data'].to_list()\n",
        "json = [{'date': j['日付'], 'count': j['小計'], } for j in l]\n",
        "json[-5:]"
      ],
      "metadata": {
        "id": "fmQU7m0oz159",
        "colab": {
          "base_uri": "https://localhost:8080/"
        },
        "outputId": "ff515d39-5f6e-46f9-eb2f-a963b7dfc6c1"
      },
      "execution_count": 16,
      "outputs": [
        {
          "output_type": "execute_result",
          "data": {
            "text/plain": [
              "[{'count': 2065, 'date': '2022-01-28T08:00:00.000Z'},\n",
              " {'count': 2754, 'date': '2022-01-29T08:00:00.000Z'},\n",
              " {'count': 2547, 'date': '2022-01-30T08:00:00.000Z'},\n",
              " {'count': 2216, 'date': '2022-01-31T08:00:00.000Z'},\n",
              " {'count': 1951, 'date': '2022-02-01T08:00:00.000Z'}]"
            ]
          },
          "metadata": {},
          "execution_count": 16
        }
      ]
    },
    {
      "cell_type": "code",
      "source": [
        "df = pd.read_json('https://raw.githubusercontent.com/stop-covid19-hyogo/covid19/development/data/patients_summary.json')\n",
        "l = df['data'].to_list()\n",
        "json = [{'date': j['日付'], 'count': j['小計'], } for j in l]\n",
        "json[-5:]"
      ],
      "metadata": {
        "id": "2K_xvCvSz1rr",
        "colab": {
          "base_uri": "https://localhost:8080/"
        },
        "outputId": "ee7c200d-6999-4ef4-95c6-c0a8f8fda9eb"
      },
      "execution_count": 17,
      "outputs": [
        {
          "output_type": "execute_result",
          "data": {
            "text/plain": [
              "[{'count': 4340, 'date': '2022-01-28T00:00:00+09:00'},\n",
              " {'count': 4629, 'date': '2022-01-29T00:00:00+09:00'},\n",
              " {'count': 4447, 'date': '2022-01-30T00:00:00+09:00'},\n",
              " {'count': 2966, 'date': '2022-01-31T00:00:00+09:00'},\n",
              " {'count': 4843, 'date': '2022-02-01T00:00:00+09:00'}]"
            ]
          },
          "metadata": {},
          "execution_count": 17
        }
      ]
    },
    {
      "cell_type": "code",
      "source": [
        "df = pd.read_json('https://raw.githubusercontent.com/stopcovid19-okayama/covid19/development/data/patients_summary.json')\n",
        "l = df['data'].to_list()\n",
        "json = [{'date': j['日付'], 'count': j['小計'], } for j in l]\n",
        "json[-5:]"
      ],
      "metadata": {
        "id": "2fmtsM-Xz1eX",
        "colab": {
          "base_uri": "https://localhost:8080/"
        },
        "outputId": "9ab04a77-992f-4f1f-c974-8fbab8e6ab2b"
      },
      "execution_count": 18,
      "outputs": [
        {
          "output_type": "execute_result",
          "data": {
            "text/plain": [
              "[{'count': 876, 'date': '2022-01-29T08:00:00.000Z'},\n",
              " {'count': 924, 'date': '2022-01-30T08:00:00.000Z'},\n",
              " {'count': 719, 'date': '2022-01-31T08:00:00.000Z'},\n",
              " {'count': 1055, 'date': '2022-02-01T08:00:00.000Z'},\n",
              " {'count': 1046, 'date': '2022-02-02T08:00:00.000Z'}]"
            ]
          },
          "metadata": {},
          "execution_count": 18
        }
      ]
    },
    {
      "cell_type": "code",
      "source": [
        "df = pd.read_json('https://data-covid19-oita.netlify.app/data.json')\n",
        "l = df['patients_summary']['data']\n",
        "json = [{'date': j['日付'], 'count': j['小計'], } for j in l]\n",
        "json[-5:]"
      ],
      "metadata": {
        "id": "KY2ZY9Ryz1Q4",
        "colab": {
          "base_uri": "https://localhost:8080/"
        },
        "outputId": "eb4629b6-716f-4289-eb05-29ca1bd127f1"
      },
      "execution_count": 19,
      "outputs": [
        {
          "output_type": "execute_result",
          "data": {
            "text/plain": [
              "[{'count': 448, 'date': '2022-01-29'},\n",
              " {'count': 411, 'date': '2022-01-30'},\n",
              " {'count': 377, 'date': '2022-01-31'},\n",
              " {'count': 459, 'date': '2022-02-01'},\n",
              " {'count': 455, 'date': '2022-02-02'}]"
            ]
          },
          "metadata": {},
          "execution_count": 19
        }
      ]
    },
    {
      "cell_type": "code",
      "source": [
        "df = pd.read_json('https://raw.githubusercontent.com/codeforkagoshima/covid19/development/data/data.json')\n",
        "l = df['patients_summary']['data']\n",
        "json = [{'date': j['日付'], 'count': j['小計'], } for j in l]\n",
        "json[-5:]"
      ],
      "metadata": {
        "id": "Nq9jp_avz1Cf",
        "colab": {
          "base_uri": "https://localhost:8080/"
        },
        "outputId": "31ca6fe6-7067-4fb3-d7d6-b330e6f10e21"
      },
      "execution_count": 20,
      "outputs": [
        {
          "output_type": "execute_result",
          "data": {
            "text/plain": [
              "[{'count': 632, 'date': '2022-01-28T08:00:00.000Z'},\n",
              " {'count': 483, 'date': '2022-01-29T08:00:00.000Z'},\n",
              " {'count': 564, 'date': '2022-01-30T08:00:00.000Z'},\n",
              " {'count': 390, 'date': '2022-01-31T08:00:00.000Z'},\n",
              " {'count': 736, 'date': '2022-02-01T08:00:00.000Z'}]"
            ]
          },
          "metadata": {},
          "execution_count": 20
        }
      ]
    },
    {
      "cell_type": "code",
      "source": [
        ""
      ],
      "metadata": {
        "id": "g-iyqA0dz00t"
      },
      "execution_count": 20,
      "outputs": []
    },
    {
      "cell_type": "code",
      "source": [
        ""
      ],
      "metadata": {
        "id": "1qjFLzoHz0l2"
      },
      "execution_count": 20,
      "outputs": []
    },
    {
      "cell_type": "code",
      "source": [
        ""
      ],
      "metadata": {
        "id": "4oYvedAmz0Y0"
      },
      "execution_count": 20,
      "outputs": []
    },
    {
      "cell_type": "code",
      "source": [
        ""
      ],
      "metadata": {
        "id": "4GQ2JOmlz0LB"
      },
      "execution_count": 20,
      "outputs": []
    },
    {
      "cell_type": "code",
      "source": [
        ""
      ],
      "metadata": {
        "id": "24fO8SiIzz1K"
      },
      "execution_count": 20,
      "outputs": []
    },
    {
      "cell_type": "code",
      "metadata": {
        "id": "qqXB9M8aWUJF"
      },
      "source": [
        ""
      ],
      "execution_count": 20,
      "outputs": []
    }
  ]
}