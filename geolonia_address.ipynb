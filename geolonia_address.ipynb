{
 "cells": [
  {
   "cell_type": "markdown",
   "metadata": {},
   "source": [
    "Use \"Geolonia 住所データ\".  \n",
    "https://geolonia.github.io/japanese-addresses/"
   ]
  },
  {
   "cell_type": "code",
   "execution_count": 1,
   "metadata": {},
   "outputs": [],
   "source": [
    "import requests"
   ]
  },
  {
   "cell_type": "code",
   "execution_count": 2,
   "metadata": {},
   "outputs": [],
   "source": [
    "geo_data_url = \"https://raw.githubusercontent.com/geolonia/japanese-addresses/master/data/latest.csv\""
   ]
  },
  {
   "cell_type": "code",
   "execution_count": 3,
   "metadata": {},
   "outputs": [
    {
     "data": {
      "text/plain": [
       "<Response [200]>"
      ]
     },
     "execution_count": 3,
     "metadata": {},
     "output_type": "execute_result"
    }
   ],
   "source": [
    "res = requests.get(geo_data_url)\n",
    "res"
   ]
  },
  {
   "cell_type": "code",
   "execution_count": 4,
   "metadata": {},
   "outputs": [
    {
     "data": {
      "text/plain": [
       "{'Connection': 'keep-alive', 'Content-Length': '4021391', 'Content-Type': 'text/plain; charset=utf-8', 'Cache-Control': 'max-age=300', 'Content-Security-Policy': \"default-src 'none'; style-src 'unsafe-inline'; sandbox\", 'ETag': 'W/\"e64f1c723af823a4a0e85bb0197f9386c0d1806e2b480a7406d4621b4a5f7a49\"', 'Strict-Transport-Security': 'max-age=31536000', 'X-Content-Type-Options': 'nosniff', 'X-Frame-Options': 'deny', 'X-XSS-Protection': '1; mode=block', 'Via': '1.1 varnish (Varnish/6.0), 1.1 varnish', 'Content-Encoding': 'gzip', 'X-GitHub-Request-Id': '284E:253B:21D5CE:24BC61:5F54DECA', 'Accept-Ranges': 'bytes', 'Date': 'Sun, 06 Sep 2020 13:06:21 GMT', 'X-Served-By': 'cache-tyo19940-TYO', 'X-Cache': 'MISS, MISS', 'X-Cache-Hits': '0, 0', 'X-Timer': 'S1599397579.038228,VS0,VE2013', 'Vary': 'Authorization,Accept-Encoding, Accept-Encoding', 'Access-Control-Allow-Origin': '*', 'X-Fastly-Request-ID': 'a8cbfde4e44ffcd7377c49ed890da25b044383ef', 'Expires': 'Sun, 06 Sep 2020 13:11:21 GMT', 'Source-Age': '2'}"
      ]
     },
     "execution_count": 4,
     "metadata": {},
     "output_type": "execute_result"
    }
   ],
   "source": [
    "res.headers"
   ]
  },
  {
   "cell_type": "code",
   "execution_count": 5,
   "metadata": {},
   "outputs": [
    {
     "data": {
      "text/plain": [
       "(200, 'utf-8')"
      ]
     },
     "execution_count": 5,
     "metadata": {},
     "output_type": "execute_result"
    }
   ],
   "source": [
    "res.status_code, res.encoding"
   ]
  },
  {
   "cell_type": "code",
   "execution_count": 6,
   "metadata": {},
   "outputs": [
    {
     "data": {
      "text/plain": [
       "32538015"
      ]
     },
     "execution_count": 6,
     "metadata": {},
     "output_type": "execute_result"
    }
   ],
   "source": [
    "len(res.content)"
   ]
  },
  {
   "cell_type": "code",
   "execution_count": 7,
   "metadata": {},
   "outputs": [],
   "source": [
    "with open('address.csv', mode='w') as f:\n",
    "    f.write(res.text)"
   ]
  },
  {
   "cell_type": "code",
   "execution_count": 8,
   "metadata": {},
   "outputs": [],
   "source": [
    "import pandas as pd"
   ]
  },
  {
   "cell_type": "code",
   "execution_count": 9,
   "metadata": {},
   "outputs": [
    {
     "data": {
      "text/html": [
       "<div>\n",
       "<style scoped>\n",
       "    .dataframe tbody tr th:only-of-type {\n",
       "        vertical-align: middle;\n",
       "    }\n",
       "\n",
       "    .dataframe tbody tr th {\n",
       "        vertical-align: top;\n",
       "    }\n",
       "\n",
       "    .dataframe thead th {\n",
       "        text-align: right;\n",
       "    }\n",
       "</style>\n",
       "<table border=\"1\" class=\"dataframe\">\n",
       "  <thead>\n",
       "    <tr style=\"text-align: right;\">\n",
       "      <th></th>\n",
       "      <th>都道府県コード</th>\n",
       "      <th>都道府県名</th>\n",
       "      <th>都道府県名カナ</th>\n",
       "      <th>都道府県名ローマ字</th>\n",
       "      <th>市区町村コード</th>\n",
       "      <th>市区町村名</th>\n",
       "      <th>市区町村名カナ</th>\n",
       "      <th>市区町村名ローマ字</th>\n",
       "      <th>大字町丁目コード</th>\n",
       "      <th>大字町丁目名</th>\n",
       "      <th>緯度</th>\n",
       "      <th>経度</th>\n",
       "    </tr>\n",
       "  </thead>\n",
       "  <tbody>\n",
       "    <tr>\n",
       "      <th>0</th>\n",
       "      <td>01</td>\n",
       "      <td>北海道</td>\n",
       "      <td>ホッカイドウ</td>\n",
       "      <td>HOKKAIDO</td>\n",
       "      <td>01101</td>\n",
       "      <td>札幌市中央区</td>\n",
       "      <td>サッポロシチュウオウク</td>\n",
       "      <td>SAPPORO SHI CHUO KU</td>\n",
       "      <td>011010001001</td>\n",
       "      <td>旭ケ丘一丁目</td>\n",
       "      <td>43.042230</td>\n",
       "      <td>141.319722</td>\n",
       "    </tr>\n",
       "    <tr>\n",
       "      <th>1</th>\n",
       "      <td>01</td>\n",
       "      <td>北海道</td>\n",
       "      <td>ホッカイドウ</td>\n",
       "      <td>HOKKAIDO</td>\n",
       "      <td>01101</td>\n",
       "      <td>札幌市中央区</td>\n",
       "      <td>サッポロシチュウオウク</td>\n",
       "      <td>SAPPORO SHI CHUO KU</td>\n",
       "      <td>011010001002</td>\n",
       "      <td>旭ケ丘二丁目</td>\n",
       "      <td>43.039768</td>\n",
       "      <td>141.321733</td>\n",
       "    </tr>\n",
       "    <tr>\n",
       "      <th>2</th>\n",
       "      <td>01</td>\n",
       "      <td>北海道</td>\n",
       "      <td>ホッカイドウ</td>\n",
       "      <td>HOKKAIDO</td>\n",
       "      <td>01101</td>\n",
       "      <td>札幌市中央区</td>\n",
       "      <td>サッポロシチュウオウク</td>\n",
       "      <td>SAPPORO SHI CHUO KU</td>\n",
       "      <td>011010001003</td>\n",
       "      <td>旭ケ丘三丁目</td>\n",
       "      <td>43.039569</td>\n",
       "      <td>141.319617</td>\n",
       "    </tr>\n",
       "    <tr>\n",
       "      <th>3</th>\n",
       "      <td>01</td>\n",
       "      <td>北海道</td>\n",
       "      <td>ホッカイドウ</td>\n",
       "      <td>HOKKAIDO</td>\n",
       "      <td>01101</td>\n",
       "      <td>札幌市中央区</td>\n",
       "      <td>サッポロシチュウオウク</td>\n",
       "      <td>SAPPORO SHI CHUO KU</td>\n",
       "      <td>011010001004</td>\n",
       "      <td>旭ケ丘四丁目</td>\n",
       "      <td>43.038819</td>\n",
       "      <td>141.323040</td>\n",
       "    </tr>\n",
       "    <tr>\n",
       "      <th>4</th>\n",
       "      <td>01</td>\n",
       "      <td>北海道</td>\n",
       "      <td>ホッカイドウ</td>\n",
       "      <td>HOKKAIDO</td>\n",
       "      <td>01101</td>\n",
       "      <td>札幌市中央区</td>\n",
       "      <td>サッポロシチュウオウク</td>\n",
       "      <td>SAPPORO SHI CHUO KU</td>\n",
       "      <td>011010001005</td>\n",
       "      <td>旭ケ丘五丁目</td>\n",
       "      <td>43.036547</td>\n",
       "      <td>141.322217</td>\n",
       "    </tr>\n",
       "    <tr>\n",
       "      <th>...</th>\n",
       "      <td>...</td>\n",
       "      <td>...</td>\n",
       "      <td>...</td>\n",
       "      <td>...</td>\n",
       "      <td>...</td>\n",
       "      <td>...</td>\n",
       "      <td>...</td>\n",
       "      <td>...</td>\n",
       "      <td>...</td>\n",
       "      <td>...</td>\n",
       "      <td>...</td>\n",
       "      <td>...</td>\n",
       "    </tr>\n",
       "    <tr>\n",
       "      <th>189534</th>\n",
       "      <td>47</td>\n",
       "      <td>沖縄県</td>\n",
       "      <td>オキナワケン</td>\n",
       "      <td>OKINAWA KEN</td>\n",
       "      <td>47381</td>\n",
       "      <td>八重山郡竹富町</td>\n",
       "      <td>ヤエヤマグンタケトミチョウ</td>\n",
       "      <td>YAEYAMA GUN TAKETOMI CHO</td>\n",
       "      <td>473810010000</td>\n",
       "      <td>字新城</td>\n",
       "      <td>24.234027</td>\n",
       "      <td>123.944947</td>\n",
       "    </tr>\n",
       "    <tr>\n",
       "      <th>189535</th>\n",
       "      <td>47</td>\n",
       "      <td>沖縄県</td>\n",
       "      <td>オキナワケン</td>\n",
       "      <td>OKINAWA KEN</td>\n",
       "      <td>47381</td>\n",
       "      <td>八重山郡竹富町</td>\n",
       "      <td>ヤエヤマグンタケトミチョウ</td>\n",
       "      <td>YAEYAMA GUN TAKETOMI CHO</td>\n",
       "      <td>473810011000</td>\n",
       "      <td>字崎山</td>\n",
       "      <td>24.305231</td>\n",
       "      <td>123.685666</td>\n",
       "    </tr>\n",
       "    <tr>\n",
       "      <th>189536</th>\n",
       "      <td>47</td>\n",
       "      <td>沖縄県</td>\n",
       "      <td>オキナワケン</td>\n",
       "      <td>OKINAWA KEN</td>\n",
       "      <td>47381</td>\n",
       "      <td>八重山郡竹富町</td>\n",
       "      <td>ヤエヤマグンタケトミチョウ</td>\n",
       "      <td>YAEYAMA GUN TAKETOMI CHO</td>\n",
       "      <td>473810012000</td>\n",
       "      <td>字鳩間</td>\n",
       "      <td>24.472254</td>\n",
       "      <td>123.820428</td>\n",
       "    </tr>\n",
       "    <tr>\n",
       "      <th>189537</th>\n",
       "      <td>47</td>\n",
       "      <td>沖縄県</td>\n",
       "      <td>オキナワケン</td>\n",
       "      <td>OKINAWA KEN</td>\n",
       "      <td>47381</td>\n",
       "      <td>八重山郡竹富町</td>\n",
       "      <td>ヤエヤマグンタケトミチョウ</td>\n",
       "      <td>YAEYAMA GUN TAKETOMI CHO</td>\n",
       "      <td>473810013000</td>\n",
       "      <td>字竹富</td>\n",
       "      <td>24.326125</td>\n",
       "      <td>124.089079</td>\n",
       "    </tr>\n",
       "    <tr>\n",
       "      <th>189538</th>\n",
       "      <td>47</td>\n",
       "      <td>沖縄県</td>\n",
       "      <td>オキナワケン</td>\n",
       "      <td>OKINAWA KEN</td>\n",
       "      <td>47382</td>\n",
       "      <td>八重山郡与那国町</td>\n",
       "      <td>ヤエヤマグンヨナグニチョウ</td>\n",
       "      <td>YAEYAMA GUN YONAGUNI CHO</td>\n",
       "      <td>473820001000</td>\n",
       "      <td>字与那国</td>\n",
       "      <td>24.455925</td>\n",
       "      <td>122.987678</td>\n",
       "    </tr>\n",
       "  </tbody>\n",
       "</table>\n",
       "<p>189539 rows × 12 columns</p>\n",
       "</div>"
      ],
      "text/plain": [
       "       都道府県コード 都道府県名 都道府県名カナ    都道府県名ローマ字 市区町村コード     市区町村名        市区町村名カナ  \\\n",
       "0           01   北海道  ホッカイドウ     HOKKAIDO   01101    札幌市中央区    サッポロシチュウオウク   \n",
       "1           01   北海道  ホッカイドウ     HOKKAIDO   01101    札幌市中央区    サッポロシチュウオウク   \n",
       "2           01   北海道  ホッカイドウ     HOKKAIDO   01101    札幌市中央区    サッポロシチュウオウク   \n",
       "3           01   北海道  ホッカイドウ     HOKKAIDO   01101    札幌市中央区    サッポロシチュウオウク   \n",
       "4           01   北海道  ホッカイドウ     HOKKAIDO   01101    札幌市中央区    サッポロシチュウオウク   \n",
       "...        ...   ...     ...          ...     ...       ...            ...   \n",
       "189534      47   沖縄県  オキナワケン  OKINAWA KEN   47381   八重山郡竹富町  ヤエヤマグンタケトミチョウ   \n",
       "189535      47   沖縄県  オキナワケン  OKINAWA KEN   47381   八重山郡竹富町  ヤエヤマグンタケトミチョウ   \n",
       "189536      47   沖縄県  オキナワケン  OKINAWA KEN   47381   八重山郡竹富町  ヤエヤマグンタケトミチョウ   \n",
       "189537      47   沖縄県  オキナワケン  OKINAWA KEN   47381   八重山郡竹富町  ヤエヤマグンタケトミチョウ   \n",
       "189538      47   沖縄県  オキナワケン  OKINAWA KEN   47382  八重山郡与那国町  ヤエヤマグンヨナグニチョウ   \n",
       "\n",
       "                       市区町村名ローマ字      大字町丁目コード  大字町丁目名         緯度          経度  \n",
       "0            SAPPORO SHI CHUO KU  011010001001  旭ケ丘一丁目  43.042230  141.319722  \n",
       "1            SAPPORO SHI CHUO KU  011010001002  旭ケ丘二丁目  43.039768  141.321733  \n",
       "2            SAPPORO SHI CHUO KU  011010001003  旭ケ丘三丁目  43.039569  141.319617  \n",
       "3            SAPPORO SHI CHUO KU  011010001004  旭ケ丘四丁目  43.038819  141.323040  \n",
       "4            SAPPORO SHI CHUO KU  011010001005  旭ケ丘五丁目  43.036547  141.322217  \n",
       "...                          ...           ...     ...        ...         ...  \n",
       "189534  YAEYAMA GUN TAKETOMI CHO  473810010000     字新城  24.234027  123.944947  \n",
       "189535  YAEYAMA GUN TAKETOMI CHO  473810011000     字崎山  24.305231  123.685666  \n",
       "189536  YAEYAMA GUN TAKETOMI CHO  473810012000     字鳩間  24.472254  123.820428  \n",
       "189537  YAEYAMA GUN TAKETOMI CHO  473810013000     字竹富  24.326125  124.089079  \n",
       "189538  YAEYAMA GUN YONAGUNI CHO  473820001000    字与那国  24.455925  122.987678  \n",
       "\n",
       "[189539 rows x 12 columns]"
      ]
     },
     "execution_count": 9,
     "metadata": {},
     "output_type": "execute_result"
    }
   ],
   "source": [
    "df = pd.read_csv('address.csv', dtype='str')\n",
    "df['緯度'] = df['緯度'].astype('float64')\n",
    "df['経度'] = df['経度'].astype('float64')\n",
    "df"
   ]
  },
  {
   "cell_type": "code",
   "execution_count": 10,
   "metadata": {},
   "outputs": [
    {
     "data": {
      "text/plain": [
       "Index(['都道府県コード', '都道府県名', '都道府県名カナ', '都道府県名ローマ字', '市区町村コード', '市区町村名',\n",
       "       '市区町村名カナ', '市区町村名ローマ字', '大字町丁目コード', '大字町丁目名', '緯度', '経度'],\n",
       "      dtype='object')"
      ]
     },
     "execution_count": 10,
     "metadata": {},
     "output_type": "execute_result"
    }
   ],
   "source": [
    "df.columns"
   ]
  },
  {
   "cell_type": "code",
   "execution_count": 11,
   "metadata": {},
   "outputs": [
    {
     "name": "stdout",
     "output_type": "stream",
     "text": [
      "都道府県コード: 2\n",
      "都道府県名: 4\n",
      "都道府県名カナ: 6\n",
      "都道府県名ローマ字: 13\n",
      "市区町村コード: 5\n",
      "市区町村名: 10\n",
      "市区町村名カナ: 19\n",
      "市区町村名ローマ字: 35\n",
      "大字町丁目コード: 12\n",
      "大字町丁目名: 15\n",
      "緯度: 9\n",
      "経度: 10\n"
     ]
    }
   ],
   "source": [
    "for c in df.columns:\n",
    "    print(f'{c}: ', end='')\n",
    "    print(max([len(str(s)) for s in df[c]]))"
   ]
  },
  {
   "cell_type": "code",
   "execution_count": 12,
   "metadata": {},
   "outputs": [
    {
     "name": "stdout",
     "output_type": "stream",
     "text": [
      "<class 'pandas.core.frame.DataFrame'>\n",
      "RangeIndex: 189539 entries, 0 to 189538\n",
      "Data columns (total 12 columns):\n",
      " #   Column     Non-Null Count   Dtype  \n",
      "---  ------     --------------   -----  \n",
      " 0   都道府県コード    189539 non-null  object \n",
      " 1   都道府県名      189539 non-null  object \n",
      " 2   都道府県名カナ    189539 non-null  object \n",
      " 3   都道府県名ローマ字  189539 non-null  object \n",
      " 4   市区町村コード    189539 non-null  object \n",
      " 5   市区町村名      189539 non-null  object \n",
      " 6   市区町村名カナ    189539 non-null  object \n",
      " 7   市区町村名ローマ字  189539 non-null  object \n",
      " 8   大字町丁目コード   189539 non-null  object \n",
      " 9   大字町丁目名     189539 non-null  object \n",
      " 10  緯度         189539 non-null  float64\n",
      " 11  経度         189539 non-null  float64\n",
      "dtypes: float64(2), object(10)\n",
      "memory usage: 17.4+ MB\n"
     ]
    }
   ],
   "source": [
    "df.info()"
   ]
  },
  {
   "cell_type": "code",
   "execution_count": 13,
   "metadata": {},
   "outputs": [],
   "source": [
    "import seaborn as sns\n",
    "import matplotlib as mpl\n",
    "import matplotlib.pyplot as plt\n",
    "\n",
    "%matplotlib inline"
   ]
  },
  {
   "cell_type": "code",
   "execution_count": 22,
   "metadata": {},
   "outputs": [
    {
     "data": {
      "text/plain": [
       "<matplotlib.collections.PathCollection at 0x7fdc9533b850>"
      ]
     },
     "execution_count": 22,
     "metadata": {},
     "output_type": "execute_result"
    },
    {
     "data": {
      "image/png": "[encoded data removed]",
      "text/plain": [
       "<Figure size 1440x1440 with 1 Axes>"
      ]
     },
     "metadata": {
      "needs_background": "light"
     },
     "output_type": "display_data"
    }
   ],
   "source": [
    "plt.figure(figsize=(20, 20))\n",
    "plt.scatter(x=df['経度'], y=df['緯度'])"
   ]
  },
  {
   "cell_type": "code",
   "execution_count": 18,
   "metadata": {},
   "outputs": [
    {
     "data": {
      "text/html": [
       "<div>\n",
       "<style scoped>\n",
       "    .dataframe tbody tr th:only-of-type {\n",
       "        vertical-align: middle;\n",
       "    }\n",
       "\n",
       "    .dataframe tbody tr th {\n",
       "        vertical-align: top;\n",
       "    }\n",
       "\n",
       "    .dataframe thead th {\n",
       "        text-align: right;\n",
       "    }\n",
       "</style>\n",
       "<table border=\"1\" class=\"dataframe\">\n",
       "  <thead>\n",
       "    <tr style=\"text-align: right;\">\n",
       "      <th></th>\n",
       "      <th>都道府県コード</th>\n",
       "      <th>都道府県名</th>\n",
       "      <th>都道府県名カナ</th>\n",
       "      <th>都道府県名ローマ字</th>\n",
       "      <th>市区町村コード</th>\n",
       "      <th>市区町村名</th>\n",
       "      <th>市区町村名カナ</th>\n",
       "      <th>市区町村名ローマ字</th>\n",
       "      <th>大字町丁目コード</th>\n",
       "      <th>大字町丁目名</th>\n",
       "      <th>緯度</th>\n",
       "      <th>経度</th>\n",
       "    </tr>\n",
       "  </thead>\n",
       "  <tbody>\n",
       "    <tr>\n",
       "      <th>12997</th>\n",
       "      <td>01</td>\n",
       "      <td>北海道</td>\n",
       "      <td>ホッカイドウ</td>\n",
       "      <td>HOKKAIDO</td>\n",
       "      <td>01214</td>\n",
       "      <td>稚内市</td>\n",
       "      <td>ワッカナイシ</td>\n",
       "      <td>WAKKANAI SHI</td>\n",
       "      <td>012140016000</td>\n",
       "      <td>宗谷岬</td>\n",
       "      <td>45.512988</td>\n",
       "      <td>141.945088</td>\n",
       "    </tr>\n",
       "  </tbody>\n",
       "</table>\n",
       "</div>"
      ],
      "text/plain": [
       "      都道府県コード 都道府県名 都道府県名カナ 都道府県名ローマ字 市区町村コード 市区町村名 市区町村名カナ     市区町村名ローマ字  \\\n",
       "12997      01   北海道  ホッカイドウ  HOKKAIDO   01214   稚内市  ワッカナイシ  WAKKANAI SHI   \n",
       "\n",
       "           大字町丁目コード 大字町丁目名         緯度          経度  \n",
       "12997  012140016000    宗谷岬  45.512988  141.945088  "
      ]
     },
     "execution_count": 18,
     "metadata": {},
     "output_type": "execute_result"
    }
   ],
   "source": [
    "df[df['緯度'] == df['緯度'].max()]"
   ]
  },
  {
   "cell_type": "code",
   "execution_count": 19,
   "metadata": {},
   "outputs": [
    {
     "data": {
      "text/html": [
       "<div>\n",
       "<style scoped>\n",
       "    .dataframe tbody tr th:only-of-type {\n",
       "        vertical-align: middle;\n",
       "    }\n",
       "\n",
       "    .dataframe tbody tr th {\n",
       "        vertical-align: top;\n",
       "    }\n",
       "\n",
       "    .dataframe thead th {\n",
       "        text-align: right;\n",
       "    }\n",
       "</style>\n",
       "<table border=\"1\" class=\"dataframe\">\n",
       "  <thead>\n",
       "    <tr style=\"text-align: right;\">\n",
       "      <th></th>\n",
       "      <th>都道府県コード</th>\n",
       "      <th>都道府県名</th>\n",
       "      <th>都道府県名カナ</th>\n",
       "      <th>都道府県名ローマ字</th>\n",
       "      <th>市区町村コード</th>\n",
       "      <th>市区町村名</th>\n",
       "      <th>市区町村名カナ</th>\n",
       "      <th>市区町村名ローマ字</th>\n",
       "      <th>大字町丁目コード</th>\n",
       "      <th>大字町丁目名</th>\n",
       "      <th>緯度</th>\n",
       "      <th>経度</th>\n",
       "    </tr>\n",
       "  </thead>\n",
       "  <tbody>\n",
       "    <tr>\n",
       "      <th>68948</th>\n",
       "      <td>13</td>\n",
       "      <td>東京都</td>\n",
       "      <td>トウキョウト</td>\n",
       "      <td>TOKYO TO</td>\n",
       "      <td>13421</td>\n",
       "      <td>小笠原村</td>\n",
       "      <td>オガサワラムラ</td>\n",
       "      <td>OGASAWARA MURA</td>\n",
       "      <td>134210002000</td>\n",
       "      <td>沖ノ鳥島</td>\n",
       "      <td>20.425604</td>\n",
       "      <td>136.081143</td>\n",
       "    </tr>\n",
       "  </tbody>\n",
       "</table>\n",
       "</div>"
      ],
      "text/plain": [
       "      都道府県コード 都道府県名 都道府県名カナ 都道府県名ローマ字 市区町村コード 市区町村名  市区町村名カナ       市区町村名ローマ字  \\\n",
       "68948      13   東京都  トウキョウト  TOKYO TO   13421  小笠原村  オガサワラムラ  OGASAWARA MURA   \n",
       "\n",
       "           大字町丁目コード 大字町丁目名         緯度          経度  \n",
       "68948  134210002000   沖ノ鳥島  20.425604  136.081143  "
      ]
     },
     "execution_count": 19,
     "metadata": {},
     "output_type": "execute_result"
    }
   ],
   "source": [
    "df[df['緯度'] == df['緯度'].min()]"
   ]
  },
  {
   "cell_type": "code",
   "execution_count": 20,
   "metadata": {},
   "outputs": [
    {
     "data": {
      "text/html": [
       "<div>\n",
       "<style scoped>\n",
       "    .dataframe tbody tr th:only-of-type {\n",
       "        vertical-align: middle;\n",
       "    }\n",
       "\n",
       "    .dataframe tbody tr th {\n",
       "        vertical-align: top;\n",
       "    }\n",
       "\n",
       "    .dataframe thead th {\n",
       "        text-align: right;\n",
       "    }\n",
       "</style>\n",
       "<table border=\"1\" class=\"dataframe\">\n",
       "  <thead>\n",
       "    <tr style=\"text-align: right;\">\n",
       "      <th></th>\n",
       "      <th>都道府県コード</th>\n",
       "      <th>都道府県名</th>\n",
       "      <th>都道府県名カナ</th>\n",
       "      <th>都道府県名ローマ字</th>\n",
       "      <th>市区町村コード</th>\n",
       "      <th>市区町村名</th>\n",
       "      <th>市区町村名カナ</th>\n",
       "      <th>市区町村名ローマ字</th>\n",
       "      <th>大字町丁目コード</th>\n",
       "      <th>大字町丁目名</th>\n",
       "      <th>緯度</th>\n",
       "      <th>経度</th>\n",
       "    </tr>\n",
       "  </thead>\n",
       "  <tbody>\n",
       "    <tr>\n",
       "      <th>68952</th>\n",
       "      <td>13</td>\n",
       "      <td>東京都</td>\n",
       "      <td>トウキョウト</td>\n",
       "      <td>TOKYO TO</td>\n",
       "      <td>13421</td>\n",
       "      <td>小笠原村</td>\n",
       "      <td>オガサワラムラ</td>\n",
       "      <td>OGASAWARA MURA</td>\n",
       "      <td>134210006000</td>\n",
       "      <td>南鳥島</td>\n",
       "      <td>24.28917</td>\n",
       "      <td>153.980589</td>\n",
       "    </tr>\n",
       "  </tbody>\n",
       "</table>\n",
       "</div>"
      ],
      "text/plain": [
       "      都道府県コード 都道府県名 都道府県名カナ 都道府県名ローマ字 市区町村コード 市区町村名  市区町村名カナ       市区町村名ローマ字  \\\n",
       "68952      13   東京都  トウキョウト  TOKYO TO   13421  小笠原村  オガサワラムラ  OGASAWARA MURA   \n",
       "\n",
       "           大字町丁目コード 大字町丁目名        緯度          経度  \n",
       "68952  134210006000    南鳥島  24.28917  153.980589  "
      ]
     },
     "execution_count": 20,
     "metadata": {},
     "output_type": "execute_result"
    }
   ],
   "source": [
    "df[df['経度'] == df['経度'].max()]"
   ]
  },
  {
   "cell_type": "code",
   "execution_count": 21,
   "metadata": {},
   "outputs": [
    {
     "data": {
      "text/html": [
       "<div>\n",
       "<style scoped>\n",
       "    .dataframe tbody tr th:only-of-type {\n",
       "        vertical-align: middle;\n",
       "    }\n",
       "\n",
       "    .dataframe tbody tr th {\n",
       "        vertical-align: top;\n",
       "    }\n",
       "\n",
       "    .dataframe thead th {\n",
       "        text-align: right;\n",
       "    }\n",
       "</style>\n",
       "<table border=\"1\" class=\"dataframe\">\n",
       "  <thead>\n",
       "    <tr style=\"text-align: right;\">\n",
       "      <th></th>\n",
       "      <th>都道府県コード</th>\n",
       "      <th>都道府県名</th>\n",
       "      <th>都道府県名カナ</th>\n",
       "      <th>都道府県名ローマ字</th>\n",
       "      <th>市区町村コード</th>\n",
       "      <th>市区町村名</th>\n",
       "      <th>市区町村名カナ</th>\n",
       "      <th>市区町村名ローマ字</th>\n",
       "      <th>大字町丁目コード</th>\n",
       "      <th>大字町丁目名</th>\n",
       "      <th>緯度</th>\n",
       "      <th>経度</th>\n",
       "    </tr>\n",
       "  </thead>\n",
       "  <tbody>\n",
       "    <tr>\n",
       "      <th>189538</th>\n",
       "      <td>47</td>\n",
       "      <td>沖縄県</td>\n",
       "      <td>オキナワケン</td>\n",
       "      <td>OKINAWA KEN</td>\n",
       "      <td>47382</td>\n",
       "      <td>八重山郡与那国町</td>\n",
       "      <td>ヤエヤマグンヨナグニチョウ</td>\n",
       "      <td>YAEYAMA GUN YONAGUNI CHO</td>\n",
       "      <td>473820001000</td>\n",
       "      <td>字与那国</td>\n",
       "      <td>24.455925</td>\n",
       "      <td>122.987678</td>\n",
       "    </tr>\n",
       "  </tbody>\n",
       "</table>\n",
       "</div>"
      ],
      "text/plain": [
       "       都道府県コード 都道府県名 都道府県名カナ    都道府県名ローマ字 市区町村コード     市区町村名        市区町村名カナ  \\\n",
       "189538      47   沖縄県  オキナワケン  OKINAWA KEN   47382  八重山郡与那国町  ヤエヤマグンヨナグニチョウ   \n",
       "\n",
       "                       市区町村名ローマ字      大字町丁目コード 大字町丁目名         緯度          経度  \n",
       "189538  YAEYAMA GUN YONAGUNI CHO  473820001000   字与那国  24.455925  122.987678  "
      ]
     },
     "execution_count": 21,
     "metadata": {},
     "output_type": "execute_result"
    }
   ],
   "source": [
    "df[df['経度'] == df['経度'].min()]"
   ]
  },
  {
   "cell_type": "markdown",
   "metadata": {},
   "source": [
    "### 都道府県"
   ]
  },
  {
   "cell_type": "code",
   "execution_count": 23,
   "metadata": {},
   "outputs": [
    {
     "name": "stdout",
     "output_type": "stream",
     "text": [
      "47\n"
     ]
    },
    {
     "data": {
      "text/html": [
       "<div>\n",
       "<style scoped>\n",
       "    .dataframe tbody tr th:only-of-type {\n",
       "        vertical-align: middle;\n",
       "    }\n",
       "\n",
       "    .dataframe tbody tr th {\n",
       "        vertical-align: top;\n",
       "    }\n",
       "\n",
       "    .dataframe thead th {\n",
       "        text-align: right;\n",
       "    }\n",
       "</style>\n",
       "<table border=\"1\" class=\"dataframe\">\n",
       "  <thead>\n",
       "    <tr style=\"text-align: right;\">\n",
       "      <th></th>\n",
       "      <th>都道府県コード</th>\n",
       "      <th>都道府県名</th>\n",
       "      <th>都道府県名カナ</th>\n",
       "      <th>都道府県名ローマ字</th>\n",
       "    </tr>\n",
       "  </thead>\n",
       "  <tbody>\n",
       "    <tr>\n",
       "      <th>0</th>\n",
       "      <td>01</td>\n",
       "      <td>北海道</td>\n",
       "      <td>ホッカイドウ</td>\n",
       "      <td>HOKKAIDO</td>\n",
       "    </tr>\n",
       "    <tr>\n",
       "      <th>1</th>\n",
       "      <td>02</td>\n",
       "      <td>青森県</td>\n",
       "      <td>アオモリケン</td>\n",
       "      <td>AOMORI KEN</td>\n",
       "    </tr>\n",
       "    <tr>\n",
       "      <th>2</th>\n",
       "      <td>03</td>\n",
       "      <td>岩手県</td>\n",
       "      <td>イワテケン</td>\n",
       "      <td>IWATE KEN</td>\n",
       "    </tr>\n",
       "    <tr>\n",
       "      <th>3</th>\n",
       "      <td>04</td>\n",
       "      <td>宮城県</td>\n",
       "      <td>ミヤギケン</td>\n",
       "      <td>MIYAGI KEN</td>\n",
       "    </tr>\n",
       "    <tr>\n",
       "      <th>4</th>\n",
       "      <td>05</td>\n",
       "      <td>秋田県</td>\n",
       "      <td>アキタケン</td>\n",
       "      <td>AKITA KEN</td>\n",
       "    </tr>\n",
       "  </tbody>\n",
       "</table>\n",
       "</div>"
      ],
      "text/plain": [
       "  都道府県コード 都道府県名 都道府県名カナ   都道府県名ローマ字\n",
       "0      01   北海道  ホッカイドウ    HOKKAIDO\n",
       "1      02   青森県  アオモリケン  AOMORI KEN\n",
       "2      03   岩手県   イワテケン   IWATE KEN\n",
       "3      04   宮城県   ミヤギケン  MIYAGI KEN\n",
       "4      05   秋田県   アキタケン   AKITA KEN"
      ]
     },
     "execution_count": 23,
     "metadata": {},
     "output_type": "execute_result"
    }
   ],
   "source": [
    "df_pref = df[['都道府県コード', '都道府県名', '都道府県名カナ', '都道府県名ローマ字']]\n",
    "df_pref = df_pref.drop_duplicates().reset_index(drop=True)\n",
    "print(len(df_pref))\n",
    "df_pref.head()"
   ]
  },
  {
   "cell_type": "markdown",
   "metadata": {},
   "source": [
    "### 市区町村"
   ]
  },
  {
   "cell_type": "code",
   "execution_count": 24,
   "metadata": {},
   "outputs": [
    {
     "name": "stdout",
     "output_type": "stream",
     "text": [
      "1893\n"
     ]
    },
    {
     "data": {
      "text/html": [
       "<div>\n",
       "<style scoped>\n",
       "    .dataframe tbody tr th:only-of-type {\n",
       "        vertical-align: middle;\n",
       "    }\n",
       "\n",
       "    .dataframe tbody tr th {\n",
       "        vertical-align: top;\n",
       "    }\n",
       "\n",
       "    .dataframe thead th {\n",
       "        text-align: right;\n",
       "    }\n",
       "</style>\n",
       "<table border=\"1\" class=\"dataframe\">\n",
       "  <thead>\n",
       "    <tr style=\"text-align: right;\">\n",
       "      <th></th>\n",
       "      <th>都道府県コード</th>\n",
       "      <th>市区町村コード</th>\n",
       "      <th>市区町村名</th>\n",
       "      <th>市区町村名カナ</th>\n",
       "      <th>市区町村名ローマ字</th>\n",
       "    </tr>\n",
       "  </thead>\n",
       "  <tbody>\n",
       "    <tr>\n",
       "      <th>0</th>\n",
       "      <td>01</td>\n",
       "      <td>01101</td>\n",
       "      <td>札幌市中央区</td>\n",
       "      <td>サッポロシチュウオウク</td>\n",
       "      <td>SAPPORO SHI CHUO KU</td>\n",
       "    </tr>\n",
       "    <tr>\n",
       "      <th>1</th>\n",
       "      <td>01</td>\n",
       "      <td>01102</td>\n",
       "      <td>札幌市北区</td>\n",
       "      <td>サッポロシキタク</td>\n",
       "      <td>SAPPORO SHI KITA KU</td>\n",
       "    </tr>\n",
       "    <tr>\n",
       "      <th>2</th>\n",
       "      <td>01</td>\n",
       "      <td>01103</td>\n",
       "      <td>札幌市東区</td>\n",
       "      <td>サッポロシヒガシク</td>\n",
       "      <td>SAPPORO SHI HIGASHI KU</td>\n",
       "    </tr>\n",
       "    <tr>\n",
       "      <th>3</th>\n",
       "      <td>01</td>\n",
       "      <td>01104</td>\n",
       "      <td>札幌市白石区</td>\n",
       "      <td>サッポロシシロイシク</td>\n",
       "      <td>SAPPORO SHI SHIROISHI KU</td>\n",
       "    </tr>\n",
       "    <tr>\n",
       "      <th>4</th>\n",
       "      <td>01</td>\n",
       "      <td>01105</td>\n",
       "      <td>札幌市豊平区</td>\n",
       "      <td>サッポロシトヨヒラク</td>\n",
       "      <td>SAPPORO SHI TOYOHIRA KU</td>\n",
       "    </tr>\n",
       "  </tbody>\n",
       "</table>\n",
       "</div>"
      ],
      "text/plain": [
       "  都道府県コード 市区町村コード   市区町村名      市区町村名カナ                 市区町村名ローマ字\n",
       "0      01   01101  札幌市中央区  サッポロシチュウオウク       SAPPORO SHI CHUO KU\n",
       "1      01   01102   札幌市北区     サッポロシキタク       SAPPORO SHI KITA KU\n",
       "2      01   01103   札幌市東区    サッポロシヒガシク    SAPPORO SHI HIGASHI KU\n",
       "3      01   01104  札幌市白石区   サッポロシシロイシク  SAPPORO SHI SHIROISHI KU\n",
       "4      01   01105  札幌市豊平区   サッポロシトヨヒラク   SAPPORO SHI TOYOHIRA KU"
      ]
     },
     "execution_count": 24,
     "metadata": {},
     "output_type": "execute_result"
    }
   ],
   "source": [
    "df_city = df[[\n",
    "    '都道府県コード', '市区町村コード', '市区町村名', '市区町村名カナ', '市区町村名ローマ字'\n",
    "]]\n",
    "df_city = df_city.drop_duplicates().reset_index(drop=True)\n",
    "print(len(df_city))\n",
    "df_city.head()"
   ]
  },
  {
   "cell_type": "markdown",
   "metadata": {},
   "source": [
    "### 大字町丁目"
   ]
  },
  {
   "cell_type": "code",
   "execution_count": 25,
   "metadata": {},
   "outputs": [
    {
     "name": "stdout",
     "output_type": "stream",
     "text": [
      "189539\n"
     ]
    },
    {
     "data": {
      "text/html": [
       "<div>\n",
       "<style scoped>\n",
       "    .dataframe tbody tr th:only-of-type {\n",
       "        vertical-align: middle;\n",
       "    }\n",
       "\n",
       "    .dataframe tbody tr th {\n",
       "        vertical-align: top;\n",
       "    }\n",
       "\n",
       "    .dataframe thead th {\n",
       "        text-align: right;\n",
       "    }\n",
       "</style>\n",
       "<table border=\"1\" class=\"dataframe\">\n",
       "  <thead>\n",
       "    <tr style=\"text-align: right;\">\n",
       "      <th></th>\n",
       "      <th>都道府県コード</th>\n",
       "      <th>市区町村コード</th>\n",
       "      <th>大字町丁目コード</th>\n",
       "      <th>大字町丁目名</th>\n",
       "      <th>緯度</th>\n",
       "      <th>経度</th>\n",
       "    </tr>\n",
       "  </thead>\n",
       "  <tbody>\n",
       "    <tr>\n",
       "      <th>0</th>\n",
       "      <td>01</td>\n",
       "      <td>01101</td>\n",
       "      <td>011010001001</td>\n",
       "      <td>旭ケ丘一丁目</td>\n",
       "      <td>43.042230</td>\n",
       "      <td>141.319722</td>\n",
       "    </tr>\n",
       "    <tr>\n",
       "      <th>1</th>\n",
       "      <td>01</td>\n",
       "      <td>01101</td>\n",
       "      <td>011010001002</td>\n",
       "      <td>旭ケ丘二丁目</td>\n",
       "      <td>43.039768</td>\n",
       "      <td>141.321733</td>\n",
       "    </tr>\n",
       "    <tr>\n",
       "      <th>2</th>\n",
       "      <td>01</td>\n",
       "      <td>01101</td>\n",
       "      <td>011010001003</td>\n",
       "      <td>旭ケ丘三丁目</td>\n",
       "      <td>43.039569</td>\n",
       "      <td>141.319617</td>\n",
       "    </tr>\n",
       "    <tr>\n",
       "      <th>3</th>\n",
       "      <td>01</td>\n",
       "      <td>01101</td>\n",
       "      <td>011010001004</td>\n",
       "      <td>旭ケ丘四丁目</td>\n",
       "      <td>43.038819</td>\n",
       "      <td>141.323040</td>\n",
       "    </tr>\n",
       "    <tr>\n",
       "      <th>4</th>\n",
       "      <td>01</td>\n",
       "      <td>01101</td>\n",
       "      <td>011010001005</td>\n",
       "      <td>旭ケ丘五丁目</td>\n",
       "      <td>43.036547</td>\n",
       "      <td>141.322217</td>\n",
       "    </tr>\n",
       "  </tbody>\n",
       "</table>\n",
       "</div>"
      ],
      "text/plain": [
       "  都道府県コード 市区町村コード      大字町丁目コード  大字町丁目名         緯度          経度\n",
       "0      01   01101  011010001001  旭ケ丘一丁目  43.042230  141.319722\n",
       "1      01   01101  011010001002  旭ケ丘二丁目  43.039768  141.321733\n",
       "2      01   01101  011010001003  旭ケ丘三丁目  43.039569  141.319617\n",
       "3      01   01101  011010001004  旭ケ丘四丁目  43.038819  141.323040\n",
       "4      01   01101  011010001005  旭ケ丘五丁目  43.036547  141.322217"
      ]
     },
     "execution_count": 25,
     "metadata": {},
     "output_type": "execute_result"
    }
   ],
   "source": [
    "df_street = df[[\n",
    "    '都道府県コード', '市区町村コード', '大字町丁目コード', '大字町丁目名', '緯度', '経度'\n",
    "]]\n",
    "df_street = df_street.drop_duplicates().reset_index(drop=True)\n",
    "print(len(df_street))\n",
    "df_street.head()"
   ]
  },
  {
   "cell_type": "code",
   "execution_count": 26,
   "metadata": {},
   "outputs": [],
   "source": [
    "_df = df_street.copy()"
   ]
  },
  {
   "cell_type": "code",
   "execution_count": 27,
   "metadata": {},
   "outputs": [],
   "source": [
    "_pref_groupby = _df.groupby('都道府県コード')\n",
    "_city_groupby = _df.groupby(['都道府県コード', '市区町村コード'])"
   ]
  },
  {
   "cell_type": "code",
   "execution_count": 28,
   "metadata": {},
   "outputs": [
    {
     "data": {
      "text/html": [
       "<div>\n",
       "<style scoped>\n",
       "    .dataframe tbody tr th:only-of-type {\n",
       "        vertical-align: middle;\n",
       "    }\n",
       "\n",
       "    .dataframe tbody tr th {\n",
       "        vertical-align: top;\n",
       "    }\n",
       "\n",
       "    .dataframe thead th {\n",
       "        text-align: right;\n",
       "    }\n",
       "</style>\n",
       "<table border=\"1\" class=\"dataframe\">\n",
       "  <thead>\n",
       "    <tr style=\"text-align: right;\">\n",
       "      <th></th>\n",
       "      <th>都道府県コード</th>\n",
       "      <th>都道府県名</th>\n",
       "      <th>都道府県名カナ</th>\n",
       "      <th>都道府県名ローマ字</th>\n",
       "      <th>north_lat</th>\n",
       "      <th>north_lon</th>\n",
       "      <th>south_lat</th>\n",
       "      <th>south_lon</th>\n",
       "      <th>east_lat</th>\n",
       "      <th>east_lon</th>\n",
       "      <th>west_lat</th>\n",
       "      <th>west_lon</th>\n",
       "    </tr>\n",
       "  </thead>\n",
       "  <tbody>\n",
       "    <tr>\n",
       "      <th>0</th>\n",
       "      <td>01</td>\n",
       "      <td>北海道</td>\n",
       "      <td>ホッカイドウ</td>\n",
       "      <td>HOKKAIDO</td>\n",
       "      <td>45.512988</td>\n",
       "      <td>146.325012</td>\n",
       "      <td>41.358899</td>\n",
       "      <td>139.360479</td>\n",
       "      <td>45.512988</td>\n",
       "      <td>146.325012</td>\n",
       "      <td>41.358899</td>\n",
       "      <td>139.360479</td>\n",
       "    </tr>\n",
       "    <tr>\n",
       "      <th>1</th>\n",
       "      <td>02</td>\n",
       "      <td>青森県</td>\n",
       "      <td>アオモリケン</td>\n",
       "      <td>AOMORI KEN</td>\n",
       "      <td>41.527021</td>\n",
       "      <td>141.649675</td>\n",
       "      <td>40.263458</td>\n",
       "      <td>139.497704</td>\n",
       "      <td>41.527021</td>\n",
       "      <td>141.649675</td>\n",
       "      <td>40.263458</td>\n",
       "      <td>139.497704</td>\n",
       "    </tr>\n",
       "    <tr>\n",
       "      <th>2</th>\n",
       "      <td>03</td>\n",
       "      <td>岩手県</td>\n",
       "      <td>イワテケン</td>\n",
       "      <td>IWATE KEN</td>\n",
       "      <td>40.389840</td>\n",
       "      <td>142.014260</td>\n",
       "      <td>38.776440</td>\n",
       "      <td>140.719989</td>\n",
       "      <td>40.389840</td>\n",
       "      <td>142.014260</td>\n",
       "      <td>38.776440</td>\n",
       "      <td>140.719989</td>\n",
       "    </tr>\n",
       "    <tr>\n",
       "      <th>3</th>\n",
       "      <td>04</td>\n",
       "      <td>宮城県</td>\n",
       "      <td>ミヤギケン</td>\n",
       "      <td>MIYAGI KEN</td>\n",
       "      <td>38.988623</td>\n",
       "      <td>141.670214</td>\n",
       "      <td>37.826695</td>\n",
       "      <td>140.286229</td>\n",
       "      <td>38.988623</td>\n",
       "      <td>141.670214</td>\n",
       "      <td>37.826695</td>\n",
       "      <td>140.286229</td>\n",
       "    </tr>\n",
       "    <tr>\n",
       "      <th>4</th>\n",
       "      <td>05</td>\n",
       "      <td>秋田県</td>\n",
       "      <td>アキタケン</td>\n",
       "      <td>AKITA KEN</td>\n",
       "      <td>40.458566</td>\n",
       "      <td>140.889827</td>\n",
       "      <td>38.951731</td>\n",
       "      <td>139.704017</td>\n",
       "      <td>40.458566</td>\n",
       "      <td>140.889827</td>\n",
       "      <td>38.951731</td>\n",
       "      <td>139.704017</td>\n",
       "    </tr>\n",
       "  </tbody>\n",
       "</table>\n",
       "</div>"
      ],
      "text/plain": [
       "  都道府県コード 都道府県名 都道府県名カナ   都道府県名ローマ字  north_lat   north_lon  south_lat  \\\n",
       "0      01   北海道  ホッカイドウ    HOKKAIDO  45.512988  146.325012  41.358899   \n",
       "1      02   青森県  アオモリケン  AOMORI KEN  41.527021  141.649675  40.263458   \n",
       "2      03   岩手県   イワテケン   IWATE KEN  40.389840  142.014260  38.776440   \n",
       "3      04   宮城県   ミヤギケン  MIYAGI KEN  38.988623  141.670214  37.826695   \n",
       "4      05   秋田県   アキタケン   AKITA KEN  40.458566  140.889827  38.951731   \n",
       "\n",
       "    south_lon   east_lat    east_lon   west_lat    west_lon  \n",
       "0  139.360479  45.512988  146.325012  41.358899  139.360479  \n",
       "1  139.497704  41.527021  141.649675  40.263458  139.497704  \n",
       "2  140.719989  40.389840  142.014260  38.776440  140.719989  \n",
       "3  140.286229  38.988623  141.670214  37.826695  140.286229  \n",
       "4  139.704017  40.458566  140.889827  38.951731  139.704017  "
      ]
     },
     "execution_count": 28,
     "metadata": {},
     "output_type": "execute_result"
    }
   ],
   "source": [
    "_df_pref = df_pref.copy()\n",
    "_df_pref = pd.concat([\n",
    "    _df_pref,\n",
    "    pd.DataFrame(_pref_groupby.max('緯度').reset_index()[['緯度', '経度']]).rename(columns={'緯度': 'north_lat', '経度': 'north_lon'}),\n",
    "    pd.DataFrame(_pref_groupby.min('緯度').reset_index()[['緯度', '経度']]).rename(columns={'緯度': 'south_lat', '経度': 'south_lon'}),\n",
    "    pd.DataFrame(_pref_groupby.max('経度').reset_index()[['緯度', '経度']]).rename(columns={'緯度': 'east_lat', '経度': 'east_lon'}),\n",
    "    pd.DataFrame(_pref_groupby.min('経度').reset_index()[['緯度', '経度']]).rename(columns={'緯度': 'west_lat', '経度': 'west_lon'})\n",
    "], axis=1)\n",
    "_df_pref.head()"
   ]
  },
  {
   "cell_type": "code",
   "execution_count": 29,
   "metadata": {},
   "outputs": [
    {
     "data": {
      "text/html": [
       "<div>\n",
       "<style scoped>\n",
       "    .dataframe tbody tr th:only-of-type {\n",
       "        vertical-align: middle;\n",
       "    }\n",
       "\n",
       "    .dataframe tbody tr th {\n",
       "        vertical-align: top;\n",
       "    }\n",
       "\n",
       "    .dataframe thead th {\n",
       "        text-align: right;\n",
       "    }\n",
       "</style>\n",
       "<table border=\"1\" class=\"dataframe\">\n",
       "  <thead>\n",
       "    <tr style=\"text-align: right;\">\n",
       "      <th></th>\n",
       "      <th>都道府県コード</th>\n",
       "      <th>市区町村コード</th>\n",
       "      <th>市区町村名</th>\n",
       "      <th>市区町村名カナ</th>\n",
       "      <th>市区町村名ローマ字</th>\n",
       "      <th>north_lat</th>\n",
       "      <th>north_lon</th>\n",
       "      <th>south_lat</th>\n",
       "      <th>south_lon</th>\n",
       "      <th>east_lat</th>\n",
       "      <th>east_lon</th>\n",
       "      <th>west_lat</th>\n",
       "      <th>west_lon</th>\n",
       "    </tr>\n",
       "  </thead>\n",
       "  <tbody>\n",
       "    <tr>\n",
       "      <th>0</th>\n",
       "      <td>01</td>\n",
       "      <td>01101</td>\n",
       "      <td>札幌市中央区</td>\n",
       "      <td>サッポロシチュウオウク</td>\n",
       "      <td>SAPPORO SHI CHUO KU</td>\n",
       "      <td>43.085343</td>\n",
       "      <td>141.387994</td>\n",
       "      <td>43.018403</td>\n",
       "      <td>141.268641</td>\n",
       "      <td>43.085343</td>\n",
       "      <td>141.387994</td>\n",
       "      <td>43.018403</td>\n",
       "      <td>141.268641</td>\n",
       "    </tr>\n",
       "    <tr>\n",
       "      <th>1</th>\n",
       "      <td>01</td>\n",
       "      <td>01102</td>\n",
       "      <td>札幌市北区</td>\n",
       "      <td>サッポロシキタク</td>\n",
       "      <td>SAPPORO SHI KITA KU</td>\n",
       "      <td>43.170361</td>\n",
       "      <td>141.426023</td>\n",
       "      <td>43.067345</td>\n",
       "      <td>141.268303</td>\n",
       "      <td>43.170361</td>\n",
       "      <td>141.426023</td>\n",
       "      <td>43.067345</td>\n",
       "      <td>141.268303</td>\n",
       "    </tr>\n",
       "    <tr>\n",
       "      <th>2</th>\n",
       "      <td>01</td>\n",
       "      <td>01103</td>\n",
       "      <td>札幌市東区</td>\n",
       "      <td>サッポロシヒガシク</td>\n",
       "      <td>SAPPORO SHI HIGASHI KU</td>\n",
       "      <td>43.139051</td>\n",
       "      <td>141.451072</td>\n",
       "      <td>43.068883</td>\n",
       "      <td>141.344088</td>\n",
       "      <td>43.139051</td>\n",
       "      <td>141.451072</td>\n",
       "      <td>43.068883</td>\n",
       "      <td>141.344088</td>\n",
       "    </tr>\n",
       "    <tr>\n",
       "      <th>3</th>\n",
       "      <td>01</td>\n",
       "      <td>01104</td>\n",
       "      <td>札幌市白石区</td>\n",
       "      <td>サッポロシシロイシク</td>\n",
       "      <td>SAPPORO SHI SHIROISHI KU</td>\n",
       "      <td>43.089350</td>\n",
       "      <td>141.454706</td>\n",
       "      <td>43.024476</td>\n",
       "      <td>141.368987</td>\n",
       "      <td>43.089350</td>\n",
       "      <td>141.454706</td>\n",
       "      <td>43.024476</td>\n",
       "      <td>141.368987</td>\n",
       "    </tr>\n",
       "    <tr>\n",
       "      <th>4</th>\n",
       "      <td>01</td>\n",
       "      <td>01105</td>\n",
       "      <td>札幌市豊平区</td>\n",
       "      <td>サッポロシトヨヒラク</td>\n",
       "      <td>SAPPORO SHI TOYOHIRA KU</td>\n",
       "      <td>43.056484</td>\n",
       "      <td>141.431975</td>\n",
       "      <td>42.959718</td>\n",
       "      <td>141.354002</td>\n",
       "      <td>43.056484</td>\n",
       "      <td>141.431975</td>\n",
       "      <td>42.959718</td>\n",
       "      <td>141.354002</td>\n",
       "    </tr>\n",
       "  </tbody>\n",
       "</table>\n",
       "</div>"
      ],
      "text/plain": [
       "  都道府県コード 市区町村コード   市区町村名      市区町村名カナ                 市区町村名ローマ字  north_lat  \\\n",
       "0      01   01101  札幌市中央区  サッポロシチュウオウク       SAPPORO SHI CHUO KU  43.085343   \n",
       "1      01   01102   札幌市北区     サッポロシキタク       SAPPORO SHI KITA KU  43.170361   \n",
       "2      01   01103   札幌市東区    サッポロシヒガシク    SAPPORO SHI HIGASHI KU  43.139051   \n",
       "3      01   01104  札幌市白石区   サッポロシシロイシク  SAPPORO SHI SHIROISHI KU  43.089350   \n",
       "4      01   01105  札幌市豊平区   サッポロシトヨヒラク   SAPPORO SHI TOYOHIRA KU  43.056484   \n",
       "\n",
       "    north_lon  south_lat   south_lon   east_lat    east_lon   west_lat  \\\n",
       "0  141.387994  43.018403  141.268641  43.085343  141.387994  43.018403   \n",
       "1  141.426023  43.067345  141.268303  43.170361  141.426023  43.067345   \n",
       "2  141.451072  43.068883  141.344088  43.139051  141.451072  43.068883   \n",
       "3  141.454706  43.024476  141.368987  43.089350  141.454706  43.024476   \n",
       "4  141.431975  42.959718  141.354002  43.056484  141.431975  42.959718   \n",
       "\n",
       "     west_lon  \n",
       "0  141.268641  \n",
       "1  141.268303  \n",
       "2  141.344088  \n",
       "3  141.368987  \n",
       "4  141.354002  "
      ]
     },
     "execution_count": 29,
     "metadata": {},
     "output_type": "execute_result"
    }
   ],
   "source": [
    "_df_city = df_city.copy()\n",
    "_df_city = pd.concat([\n",
    "    _df_city,\n",
    "    pd.DataFrame(_city_groupby.max('緯度').reset_index()[['緯度', '経度']]).rename(columns={'緯度': 'north_lat', '経度': 'north_lon'}),\n",
    "    pd.DataFrame(_city_groupby.min('緯度').reset_index()[['緯度', '経度']]).rename(columns={'緯度': 'south_lat', '経度': 'south_lon'}),\n",
    "    pd.DataFrame(_city_groupby.max('経度').reset_index()[['緯度', '経度']]).rename(columns={'緯度': 'east_lat', '経度': 'east_lon'}),\n",
    "    pd.DataFrame(_city_groupby.min('経度').reset_index()[['緯度', '経度']]).rename(columns={'緯度': 'west_lat', '経度': 'west_lon'})\n",
    "], axis=1)\n",
    "_df_city.head()"
   ]
  },
  {
   "cell_type": "code",
   "execution_count": null,
   "metadata": {},
   "outputs": [],
   "source": []
  }
 ],
 "metadata": {
  "kernelspec": {
   "display_name": "Python 3",
   "language": "python",
   "name": "python3"
  },
  "language_info": {
   "codemirror_mode": {
    "name": "ipython",
    "version": 3
   },
   "file_extension": ".py",
   "mimetype": "text/x-python",
   "name": "python",
   "nbconvert_exporter": "python",
   "pygments_lexer": "ipython3",
   "version": "3.8.3"
  }
 },
 "nbformat": 4,
 "nbformat_minor": 4
}
